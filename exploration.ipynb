{
 "cells": [
  {
   "cell_type": "code",
   "execution_count": 3,
   "id": "3b199601-a85a-458b-8c43-1a24fcb059c0",
   "metadata": {},
   "outputs": [],
   "source": [
    "import torch\n",
    "import pandas as pd\n",
    "import json"
   ]
  },
  {
   "cell_type": "code",
   "execution_count": 4,
   "id": "d7565e70-8ec8-43b4-8f2c-27e325b8caa2",
   "metadata": {},
   "outputs": [],
   "source": [
    "nodes_df = pd.read_pickle('experiment_runs/run_2025-09-26_21-25-12/nodes_df.pkl')\n",
    "edges_df = pd.read_pickle('experiment_runs/run_2025-09-26_21-25-12/edges_df.pkl')"
   ]
  },
  {
   "cell_type": "code",
   "execution_count": 51,
   "id": "d592e157-2815-4939-b45e-b475007069f3",
   "metadata": {
    "scrolled": true
   },
   "outputs": [
    {
     "data": {
      "text/plain": [
       "{'text-generation': 0,\n",
       " 'question-answering': 1,\n",
       " 'text-to-video': 2,\n",
       " 'image-to-video': 3,\n",
       " 'image-to-3d': 4,\n",
       " 'robotics': 5,\n",
       " 'translation': 6,\n",
       " 'feature-extraction': 7,\n",
       " 'text-to-3d': 8,\n",
       " 'text-to-speech': 9,\n",
       " 'automatic-speech-recognition': 10,\n",
       " 'image-classification': 11,\n",
       " 'table-question-answering': 12,\n",
       " 'fill-mask': 13,\n",
       " 'multiple-choice': 14,\n",
       " 'visual-question-answering': 15,\n",
       " 'summarization': 16,\n",
       " 'image-to-text': 17,\n",
       " 'image-feature-extraction': 18,\n",
       " 'text-to-image': 19,\n",
       " 'text-to-audio': 20,\n",
       " 'reinforcement-learning': 21,\n",
       " 'image-text-to-text': 22,\n",
       " 'text-classification': 23,\n",
       " 'sentence-similarity': 24,\n",
       " 'zero-shot-classification': 25,\n",
       " 'text-retrieval': 26,\n",
       " 'token-classification': 27,\n",
       " 'object-detection': 28,\n",
       " 'audio-classification': 29,\n",
       " 'image-segmentation': 30,\n",
       " 'time-series-forecasting': 31,\n",
       " 'video-classification': 32,\n",
       " 'zero-shot-image-classification': 33,\n",
       " 'any-to-any': 34,\n",
       " 'image-to-image': 35,\n",
       " 'depth-estimation': 36,\n",
       " 'tabular-classification': 37,\n",
       " 'tabular-regression': 38,\n",
       " 'table-to-text': 39,\n",
       " 'video-text-to-text': 40,\n",
       " 'audio-to-audio': 41,\n",
       " 'voice-activity-detection': 42,\n",
       " 'audio-text-to-text': 43,\n",
       " 'document-question-answering': 44,\n",
       " 'visual-document-retrieval': 45,\n",
       " 'text-ranking': 46,\n",
       " 'graph-ml': 47,\n",
       " 'tabular-to-text': 48,\n",
       " 'unconditional-image-generation': 49,\n",
       " 'mask-generation': 50,\n",
       " 'keypoint-detection': 51,\n",
       " 'zero-shot-object-detection': 52,\n",
       " 'video-to-video': 53}"
      ]
     },
     "execution_count": 51,
     "metadata": {},
     "output_type": "execute_result"
    }
   ],
   "source": [
    "task_to_idx = json.load(open('experiment_runs/run_2025-09-26_21-25-12/task_to_idx.json', 'r'))\n",
    "idx_to_task = {value: key for key, value in task_to_idx.items()}\n",
    "task_to_idx"
   ]
  },
  {
   "cell_type": "code",
   "execution_count": 13,
   "id": "52e61602-d739-4a52-ac63-dd2cdf3ce334",
   "metadata": {},
   "outputs": [
    {
     "data": {
      "text/html": [
       "<div>\n",
       "<style scoped>\n",
       "    .dataframe tbody tr th:only-of-type {\n",
       "        vertical-align: middle;\n",
       "    }\n",
       "\n",
       "    .dataframe tbody tr th {\n",
       "        vertical-align: top;\n",
       "    }\n",
       "\n",
       "    .dataframe thead th {\n",
       "        text-align: right;\n",
       "    }\n",
       "</style>\n",
       "<table border=\"1\" class=\"dataframe\">\n",
       "  <thead>\n",
       "    <tr style=\"text-align: right;\">\n",
       "      <th></th>\n",
       "      <th>id</th>\n",
       "      <th>description</th>\n",
       "      <th>createdAt</th>\n",
       "      <th>type</th>\n",
       "      <th>y_multi_lab</th>\n",
       "      <th>relationships</th>\n",
       "      <th>y</th>\n",
       "    </tr>\n",
       "  </thead>\n",
       "  <tbody>\n",
       "    <tr>\n",
       "      <th>0</th>\n",
       "      <td>tencent/SRPO</td>\n",
       "      <td>---\\nlibrary_name: diffusers\\nlicense: other\\n...</td>\n",
       "      <td>2025-09-08T12:44:15+00:00</td>\n",
       "      <td>model</td>\n",
       "      <td>[19]</td>\n",
       "      <td>model_finetune_model:rockerBOO/flux.1-dev-SRPO...</td>\n",
       "      <td>[0, 0, 0, 0, 0, 0, 0, 0, 0, 0, 0, 0, 0, 0, 0, ...</td>\n",
       "    </tr>\n",
       "    <tr>\n",
       "      <th>1</th>\n",
       "      <td>baidu/ERNIE-4.5-21B-A3B-Thinking</td>\n",
       "      <td>---\\nlicense: apache-2.0\\nlanguage:\\n- en\\n- z...</td>\n",
       "      <td>2025-09-08T14:18:31+00:00</td>\n",
       "      <td>model</td>\n",
       "      <td>[0]</td>\n",
       "      <td>model_finetune_model:unsloth/ERNIE-4.5-21B-A3B...</td>\n",
       "      <td>[1, 0, 0, 0, 0, 0, 0, 0, 0, 0, 0, 0, 0, 0, 0, ...</td>\n",
       "    </tr>\n",
       "    <tr>\n",
       "      <th>2</th>\n",
       "      <td>Qwen/Qwen3-Next-80B-A3B-Instruct</td>\n",
       "      <td>---\\nlibrary_name: transformers\\nlicense: apac...</td>\n",
       "      <td>2025-09-09T15:40:56+00:00</td>\n",
       "      <td>model</td>\n",
       "      <td>[0]</td>\n",
       "      <td>model_finetune_model:unsloth/Qwen3-Next-80B-A3...</td>\n",
       "      <td>[1, 0, 0, 0, 0, 0, 0, 0, 0, 0, 0, 0, 0, 0, 0, ...</td>\n",
       "    </tr>\n",
       "    <tr>\n",
       "      <th>3</th>\n",
       "      <td>Qwen/Qwen3-Next-80B-A3B-Thinking</td>\n",
       "      <td>---\\nlibrary_name: transformers\\nlicense: apac...</td>\n",
       "      <td>2025-09-09T15:45:31+00:00</td>\n",
       "      <td>model</td>\n",
       "      <td>[0]</td>\n",
       "      <td>model_finetune_model:kikekewl/Qwen3-Next-80B-A...</td>\n",
       "      <td>[1, 0, 0, 0, 0, 0, 0, 0, 0, 0, 0, 0, 0, 0, 0, ...</td>\n",
       "    </tr>\n",
       "    <tr>\n",
       "      <th>4</th>\n",
       "      <td>google/embeddinggemma-300m</td>\n",
       "      <td>---\\nlicense: gemma\\npipeline_tag: sentence-si...</td>\n",
       "      <td>2025-07-17T19:53:55+00:00</td>\n",
       "      <td>model</td>\n",
       "      <td>[24, 7]</td>\n",
       "      <td>model_finetune_model:sigridjineth/colbert-ko-e...</td>\n",
       "      <td>[0, 0, 0, 0, 0, 0, 0, 1, 0, 0, 0, 0, 0, 0, 0, ...</td>\n",
       "    </tr>\n",
       "  </tbody>\n",
       "</table>\n",
       "</div>"
      ],
      "text/plain": [
       "                                 id  \\\n",
       "0                      tencent/SRPO   \n",
       "1  baidu/ERNIE-4.5-21B-A3B-Thinking   \n",
       "2  Qwen/Qwen3-Next-80B-A3B-Instruct   \n",
       "3  Qwen/Qwen3-Next-80B-A3B-Thinking   \n",
       "4        google/embeddinggemma-300m   \n",
       "\n",
       "                                         description  \\\n",
       "0  ---\\nlibrary_name: diffusers\\nlicense: other\\n...   \n",
       "1  ---\\nlicense: apache-2.0\\nlanguage:\\n- en\\n- z...   \n",
       "2  ---\\nlibrary_name: transformers\\nlicense: apac...   \n",
       "3  ---\\nlibrary_name: transformers\\nlicense: apac...   \n",
       "4  ---\\nlicense: gemma\\npipeline_tag: sentence-si...   \n",
       "\n",
       "                   createdAt   type y_multi_lab  \\\n",
       "0  2025-09-08T12:44:15+00:00  model        [19]   \n",
       "1  2025-09-08T14:18:31+00:00  model         [0]   \n",
       "2  2025-09-09T15:40:56+00:00  model         [0]   \n",
       "3  2025-09-09T15:45:31+00:00  model         [0]   \n",
       "4  2025-07-17T19:53:55+00:00  model     [24, 7]   \n",
       "\n",
       "                                       relationships  \\\n",
       "0  model_finetune_model:rockerBOO/flux.1-dev-SRPO...   \n",
       "1  model_finetune_model:unsloth/ERNIE-4.5-21B-A3B...   \n",
       "2  model_finetune_model:unsloth/Qwen3-Next-80B-A3...   \n",
       "3  model_finetune_model:kikekewl/Qwen3-Next-80B-A...   \n",
       "4  model_finetune_model:sigridjineth/colbert-ko-e...   \n",
       "\n",
       "                                                   y  \n",
       "0  [0, 0, 0, 0, 0, 0, 0, 0, 0, 0, 0, 0, 0, 0, 0, ...  \n",
       "1  [1, 0, 0, 0, 0, 0, 0, 0, 0, 0, 0, 0, 0, 0, 0, ...  \n",
       "2  [1, 0, 0, 0, 0, 0, 0, 0, 0, 0, 0, 0, 0, 0, 0, ...  \n",
       "3  [1, 0, 0, 0, 0, 0, 0, 0, 0, 0, 0, 0, 0, 0, 0, ...  \n",
       "4  [0, 0, 0, 0, 0, 0, 0, 1, 0, 0, 0, 0, 0, 0, 0, ...  "
      ]
     },
     "execution_count": 13,
     "metadata": {},
     "output_type": "execute_result"
    }
   ],
   "source": [
    "nodes_df.head()"
   ]
  },
  {
   "cell_type": "code",
   "execution_count": 14,
   "id": "e96f3693-a2e9-4839-bd9c-52e5e29fec4f",
   "metadata": {},
   "outputs": [
    {
     "data": {
      "text/html": [
       "<div>\n",
       "<style scoped>\n",
       "    .dataframe tbody tr th:only-of-type {\n",
       "        vertical-align: middle;\n",
       "    }\n",
       "\n",
       "    .dataframe tbody tr th {\n",
       "        vertical-align: top;\n",
       "    }\n",
       "\n",
       "    .dataframe thead th {\n",
       "        text-align: right;\n",
       "    }\n",
       "</style>\n",
       "<table border=\"1\" class=\"dataframe\">\n",
       "  <thead>\n",
       "    <tr style=\"text-align: right;\">\n",
       "      <th></th>\n",
       "      <th>source_node</th>\n",
       "      <th>dest_node</th>\n",
       "      <th>edge_type</th>\n",
       "      <th>edge_attr</th>\n",
       "    </tr>\n",
       "    <tr>\n",
       "      <th>match</th>\n",
       "      <th></th>\n",
       "      <th></th>\n",
       "      <th></th>\n",
       "      <th></th>\n",
       "    </tr>\n",
       "  </thead>\n",
       "  <tbody>\n",
       "    <tr>\n",
       "      <th>0</th>\n",
       "      <td>tencent/SRPO</td>\n",
       "      <td>rockerBOO/flux.1-dev-SRPO</td>\n",
       "      <td>model_finetune_model</td>\n",
       "      <td>0</td>\n",
       "    </tr>\n",
       "    <tr>\n",
       "      <th>1</th>\n",
       "      <td>tencent/SRPO</td>\n",
       "      <td>wikeeyang/SRPO-Refine-Quantized-v1.0</td>\n",
       "      <td>model_quantized_model</td>\n",
       "      <td>3</td>\n",
       "    </tr>\n",
       "    <tr>\n",
       "      <th>1</th>\n",
       "      <td>tencent/SRPO</td>\n",
       "      <td>befox/SRPO-GGUF</td>\n",
       "      <td>model_quantized_model</td>\n",
       "      <td>3</td>\n",
       "    </tr>\n",
       "    <tr>\n",
       "      <th>1</th>\n",
       "      <td>tencent/SRPO</td>\n",
       "      <td>wikeeyang/SRPO-for-ComfyUI</td>\n",
       "      <td>model_quantized_model</td>\n",
       "      <td>3</td>\n",
       "    </tr>\n",
       "    <tr>\n",
       "      <th>0</th>\n",
       "      <td>baidu/ERNIE-4.5-21B-A3B-Thinking</td>\n",
       "      <td>unsloth/ERNIE-4.5-21B-A3B-Thinking</td>\n",
       "      <td>model_finetune_model</td>\n",
       "      <td>0</td>\n",
       "    </tr>\n",
       "  </tbody>\n",
       "</table>\n",
       "</div>"
      ],
      "text/plain": [
       "                            source_node                             dest_node  \\\n",
       "match                                                                           \n",
       "0                          tencent/SRPO             rockerBOO/flux.1-dev-SRPO   \n",
       "1                          tencent/SRPO  wikeeyang/SRPO-Refine-Quantized-v1.0   \n",
       "1                          tencent/SRPO                       befox/SRPO-GGUF   \n",
       "1                          tencent/SRPO            wikeeyang/SRPO-for-ComfyUI   \n",
       "0      baidu/ERNIE-4.5-21B-A3B-Thinking    unsloth/ERNIE-4.5-21B-A3B-Thinking   \n",
       "\n",
       "                    edge_type  edge_attr  \n",
       "match                                     \n",
       "0        model_finetune_model          0  \n",
       "1       model_quantized_model          3  \n",
       "1       model_quantized_model          3  \n",
       "1       model_quantized_model          3  \n",
       "0        model_finetune_model          0  "
      ]
     },
     "execution_count": 14,
     "metadata": {},
     "output_type": "execute_result"
    }
   ],
   "source": [
    "edges_df.head()"
   ]
  },
  {
   "cell_type": "code",
   "execution_count": 7,
   "id": "5b0b5dd8-fd66-4dcc-9c84-f3bc93ab3e22",
   "metadata": {},
   "outputs": [],
   "source": [
    "f = open('experiment_runs/run_2025-09-26_21-25-12/old_to_new_idx.json','r')\n",
    "\n",
    "old_to_new_idx_dict = json.load(f)"
   ]
  },
  {
   "cell_type": "code",
   "execution_count": 10,
   "id": "79a2a872-a22d-4dd8-9b01-383b4b7f08ee",
   "metadata": {},
   "outputs": [],
   "source": [
    "graph = torch.load('experiment_runs/run_2025-09-26_21-25-12/final_graph.pt')"
   ]
  },
  {
   "cell_type": "code",
   "execution_count": 11,
   "id": "bda1203b-cae5-4995-b303-172620498d09",
   "metadata": {},
   "outputs": [
    {
     "data": {
      "text/plain": [
       "Graph(x=[389066, 768], y=[389066, 54], train_mask=[389066], val_mask=[389066], test_mask=[389066], edge_index=[2, 124056], edge_attr=[124056])"
      ]
     },
     "execution_count": 11,
     "metadata": {},
     "output_type": "execute_result"
    }
   ],
   "source": [
    "graph"
   ]
  },
  {
   "cell_type": "code",
   "execution_count": 37,
   "id": "6195b5a7-d415-4802-b4cc-222416386d27",
   "metadata": {},
   "outputs": [
    {
     "data": {
      "text/plain": [
       "tensor([     0,      1,      2,  ..., 389063, 389064, 389065])"
      ]
     },
     "execution_count": 37,
     "metadata": {},
     "output_type": "execute_result"
    }
   ],
   "source": [
    "graph.nodes()"
   ]
  },
  {
   "cell_type": "code",
   "execution_count": null,
   "id": "dc7d9259-ec20-4ab2-801c-2a8057e6b861",
   "metadata": {},
   "outputs": [],
   "source": []
  },
  {
   "cell_type": "code",
   "execution_count": 39,
   "id": "977ea18b-746c-4d26-bd97-907d45c412d5",
   "metadata": {},
   "outputs": [],
   "source": [
    "\n",
    "new_to_old_idx = {value: int(key) for key, value in old_to_new_idx_dict.items()}\n",
    "def get_ori_node(new_node_idx):\n",
    "    ori_id = new_to_old_idx[new_node_idx]\n",
    "    return ori_id, nodes_df.iloc[ori_id].to_dict()\n",
    "    "
   ]
  },
  {
   "cell_type": "markdown",
   "id": "faf6a05c-08dd-4402-aadc-24ae7c565c81",
   "metadata": {},
   "source": [
    "### Example check 1"
   ]
  },
  {
   "cell_type": "code",
   "execution_count": 40,
   "id": "9027fdd1-d18c-4ff4-b784-1def49e1b686",
   "metadata": {
    "scrolled": true
   },
   "outputs": [],
   "source": [
    "ori_id, ori_record = get_ori_node(389065)"
   ]
  },
  {
   "cell_type": "code",
   "execution_count": 62,
   "id": "0a7055bb-09cc-4c52-bfed-598c99be3658",
   "metadata": {},
   "outputs": [
    {
     "name": "stdout",
     "output_type": "stream",
     "text": [
      " \n",
      "    id = kjydb/cafe_010 , \n",
      "        type=dataset, task_lab_idx=[5], ['robotics']. its original ID is 389574 in nodes_df.\n",
      "\n",
      "    \n"
     ]
    }
   ],
   "source": [
    "task_labs = [idx_to_task[idx] for idx in ori_record[\"y_multi_lab\"]]\n",
    "print(f''' \n",
    "    id = {ori_record[\"id\"]} , \n",
    "        type={ori_record[\"type\"]}, task_lab_idx={ori_record[\"y_multi_lab\"]}, {task_labs}. its original ID is {ori_id} in nodes_df.\n",
    "        \n",
    "    ''')"
   ]
  },
  {
   "cell_type": "code",
   "execution_count": 56,
   "id": "4a5bdcf9-5106-4c62-ae9c-9942aea65acb",
   "metadata": {},
   "outputs": [
    {
     "data": {
      "text/html": [
       "<div>\n",
       "<style scoped>\n",
       "    .dataframe tbody tr th:only-of-type {\n",
       "        vertical-align: middle;\n",
       "    }\n",
       "\n",
       "    .dataframe tbody tr th {\n",
       "        vertical-align: top;\n",
       "    }\n",
       "\n",
       "    .dataframe thead th {\n",
       "        text-align: right;\n",
       "    }\n",
       "</style>\n",
       "<table border=\"1\" class=\"dataframe\">\n",
       "  <thead>\n",
       "    <tr style=\"text-align: right;\">\n",
       "      <th></th>\n",
       "      <th>id</th>\n",
       "      <th>description</th>\n",
       "      <th>createdAt</th>\n",
       "      <th>type</th>\n",
       "      <th>y_multi_lab</th>\n",
       "      <th>relationships</th>\n",
       "      <th>y</th>\n",
       "    </tr>\n",
       "  </thead>\n",
       "  <tbody>\n",
       "    <tr>\n",
       "      <th>389574</th>\n",
       "      <td>kjydb/cafe_010</td>\n",
       "      <td>---\\nlicense: apache-2.0\\ntask_categories:\\n- ...</td>\n",
       "      <td>2025-09-17T02:31:25+00:00</td>\n",
       "      <td>dataset</td>\n",
       "      <td>[5]</td>\n",
       "      <td></td>\n",
       "      <td>[0, 0, 0, 0, 0, 1, 0, 0, 0, 0, 0, 0, 0, 0, 0, ...</td>\n",
       "    </tr>\n",
       "  </tbody>\n",
       "</table>\n",
       "</div>"
      ],
      "text/plain": [
       "                    id                                        description  \\\n",
       "389574  kjydb/cafe_010  ---\\nlicense: apache-2.0\\ntask_categories:\\n- ...   \n",
       "\n",
       "                        createdAt     type y_multi_lab relationships  \\\n",
       "389574  2025-09-17T02:31:25+00:00  dataset         [5]                 \n",
       "\n",
       "                                                        y  \n",
       "389574  [0, 0, 0, 0, 0, 1, 0, 0, 0, 0, 0, 0, 0, 0, 0, ...  "
      ]
     },
     "execution_count": 56,
     "metadata": {},
     "output_type": "execute_result"
    }
   ],
   "source": [
    "nodes_df[nodes_df['id']=='kjydb/cafe_010']"
   ]
  },
  {
   "cell_type": "code",
   "execution_count": 60,
   "id": "cf976e2f-be9b-4fb9-806a-97cda6076b96",
   "metadata": {},
   "outputs": [
    {
     "data": {
      "text/html": [
       "<div>\n",
       "<style scoped>\n",
       "    .dataframe tbody tr th:only-of-type {\n",
       "        vertical-align: middle;\n",
       "    }\n",
       "\n",
       "    .dataframe tbody tr th {\n",
       "        vertical-align: top;\n",
       "    }\n",
       "\n",
       "    .dataframe thead th {\n",
       "        text-align: right;\n",
       "    }\n",
       "</style>\n",
       "<table border=\"1\" class=\"dataframe\">\n",
       "  <thead>\n",
       "    <tr style=\"text-align: right;\">\n",
       "      <th></th>\n",
       "      <th>source_node</th>\n",
       "      <th>dest_node</th>\n",
       "      <th>edge_type</th>\n",
       "      <th>edge_attr</th>\n",
       "    </tr>\n",
       "    <tr>\n",
       "      <th>match</th>\n",
       "      <th></th>\n",
       "      <th></th>\n",
       "      <th></th>\n",
       "      <th></th>\n",
       "    </tr>\n",
       "  </thead>\n",
       "  <tbody>\n",
       "  </tbody>\n",
       "</table>\n",
       "</div>"
      ],
      "text/plain": [
       "Empty DataFrame\n",
       "Columns: [source_node, dest_node, edge_type, edge_attr]\n",
       "Index: []"
      ]
     },
     "execution_count": 60,
     "metadata": {},
     "output_type": "execute_result"
    }
   ],
   "source": [
    "edges_df[(\n",
    "    (edges_df['source_node']=='kjydb/cafe_010')| \n",
    "    (edges_df['dest_node']=='kjydb/cafe_010')\n",
    ")]"
   ]
  },
  {
   "cell_type": "code",
   "execution_count": 75,
   "id": "70b9873c-dba7-49c5-889b-aa2967165c31",
   "metadata": {},
   "outputs": [
    {
     "data": {
      "text/plain": [
       "tensor(0.)"
      ]
     },
     "execution_count": 75,
     "metadata": {},
     "output_type": "execute_result"
    }
   ],
   "source": [
    "graph.degrees()[389065]"
   ]
  },
  {
   "cell_type": "markdown",
   "id": "5e2410c7-689a-4e97-9139-0c8dd8cb4b1b",
   "metadata": {},
   "source": [
    "=> So this is correct that this node had no edges, and its task label is robotics"
   ]
  },
  {
   "cell_type": "markdown",
   "id": "a7ebffda-91bb-49b7-8a53-cbd811f8a85e",
   "metadata": {},
   "source": [
    "### Example check 2"
   ]
  },
  {
   "cell_type": "code",
   "execution_count": 124,
   "id": "d0910083-a86a-485b-bf33-b06e537c1e77",
   "metadata": {},
   "outputs": [],
   "source": [
    "ori_id, ori_record = get_ori_node(12)"
   ]
  },
  {
   "cell_type": "code",
   "execution_count": 125,
   "id": "7e57b6c1-18c7-400d-9a57-4df2e42f8fb8",
   "metadata": {},
   "outputs": [
    {
     "name": "stdout",
     "output_type": "stream",
     "text": [
      " \n",
      "    id = inclusionAI/Ling-mini-2.0 , \n",
      "        type=model, task_lab_idx=[0], ['text-generation']. its original ID is 12 in nodes_df.\n",
      "\n",
      "    \n"
     ]
    }
   ],
   "source": [
    "task_labs = [idx_to_task[idx] for idx in ori_record[\"y_multi_lab\"]]\n",
    "print(f''' \n",
    "    id = {ori_record[\"id\"]} , \n",
    "        type={ori_record[\"type\"]}, task_lab_idx={ori_record[\"y_multi_lab\"]}, {task_labs}. its original ID is {ori_id} in nodes_df.\n",
    "        \n",
    "    ''')"
   ]
  },
  {
   "cell_type": "code",
   "execution_count": 126,
   "id": "47948a4f-f432-4fd8-983a-854881e92674",
   "metadata": {},
   "outputs": [
    {
     "data": {
      "text/html": [
       "<div>\n",
       "<style scoped>\n",
       "    .dataframe tbody tr th:only-of-type {\n",
       "        vertical-align: middle;\n",
       "    }\n",
       "\n",
       "    .dataframe tbody tr th {\n",
       "        vertical-align: top;\n",
       "    }\n",
       "\n",
       "    .dataframe thead th {\n",
       "        text-align: right;\n",
       "    }\n",
       "</style>\n",
       "<table border=\"1\" class=\"dataframe\">\n",
       "  <thead>\n",
       "    <tr style=\"text-align: right;\">\n",
       "      <th></th>\n",
       "      <th>id</th>\n",
       "      <th>description</th>\n",
       "      <th>createdAt</th>\n",
       "      <th>type</th>\n",
       "      <th>y_multi_lab</th>\n",
       "      <th>relationships</th>\n",
       "      <th>y</th>\n",
       "    </tr>\n",
       "  </thead>\n",
       "  <tbody>\n",
       "    <tr>\n",
       "      <th>12</th>\n",
       "      <td>inclusionAI/Ling-mini-2.0</td>\n",
       "      <td>---\\nlicense: mit\\nbase_model:\\n- inclusionAI/...</td>\n",
       "      <td>2025-09-08T13:43:44+00:00</td>\n",
       "      <td>model</td>\n",
       "      <td>[0]</td>\n",
       "      <td>model_quantized_model:mlx-community/Ling-mini-...</td>\n",
       "      <td>[1, 0, 0, 0, 0, 0, 0, 0, 0, 0, 0, 0, 0, 0, 0, ...</td>\n",
       "    </tr>\n",
       "  </tbody>\n",
       "</table>\n",
       "</div>"
      ],
      "text/plain": [
       "                           id  \\\n",
       "12  inclusionAI/Ling-mini-2.0   \n",
       "\n",
       "                                          description  \\\n",
       "12  ---\\nlicense: mit\\nbase_model:\\n- inclusionAI/...   \n",
       "\n",
       "                    createdAt   type y_multi_lab  \\\n",
       "12  2025-09-08T13:43:44+00:00  model         [0]   \n",
       "\n",
       "                                        relationships  \\\n",
       "12  model_quantized_model:mlx-community/Ling-mini-...   \n",
       "\n",
       "                                                    y  \n",
       "12  [1, 0, 0, 0, 0, 0, 0, 0, 0, 0, 0, 0, 0, 0, 0, ...  "
      ]
     },
     "execution_count": 126,
     "metadata": {},
     "output_type": "execute_result"
    }
   ],
   "source": [
    "nodes_df[nodes_df['id']=='inclusionAI/Ling-mini-2.0']"
   ]
  },
  {
   "cell_type": "code",
   "execution_count": 127,
   "id": "3d656499-e141-43c4-b871-3d319f6e65aa",
   "metadata": {},
   "outputs": [
    {
     "data": {
      "text/html": [
       "<div>\n",
       "<style scoped>\n",
       "    .dataframe tbody tr th:only-of-type {\n",
       "        vertical-align: middle;\n",
       "    }\n",
       "\n",
       "    .dataframe tbody tr th {\n",
       "        vertical-align: top;\n",
       "    }\n",
       "\n",
       "    .dataframe thead th {\n",
       "        text-align: right;\n",
       "    }\n",
       "</style>\n",
       "<table border=\"1\" class=\"dataframe\">\n",
       "  <thead>\n",
       "    <tr style=\"text-align: right;\">\n",
       "      <th></th>\n",
       "      <th>source_node</th>\n",
       "      <th>dest_node</th>\n",
       "      <th>edge_type</th>\n",
       "      <th>edge_attr</th>\n",
       "    </tr>\n",
       "    <tr>\n",
       "      <th>match</th>\n",
       "      <th></th>\n",
       "      <th></th>\n",
       "      <th></th>\n",
       "      <th></th>\n",
       "    </tr>\n",
       "  </thead>\n",
       "  <tbody>\n",
       "    <tr>\n",
       "      <th>0</th>\n",
       "      <td>inclusionAI/Ling-mini-2.0</td>\n",
       "      <td>mlx-community/Ling-mini-2.0-8bit</td>\n",
       "      <td>model_quantized_model</td>\n",
       "      <td>3</td>\n",
       "    </tr>\n",
       "  </tbody>\n",
       "</table>\n",
       "</div>"
      ],
      "text/plain": [
       "                     source_node                         dest_node  \\\n",
       "match                                                                \n",
       "0      inclusionAI/Ling-mini-2.0  mlx-community/Ling-mini-2.0-8bit   \n",
       "\n",
       "                   edge_type  edge_attr  \n",
       "match                                    \n",
       "0      model_quantized_model          3  "
      ]
     },
     "execution_count": 127,
     "metadata": {},
     "output_type": "execute_result"
    }
   ],
   "source": [
    "edges_df[(\n",
    "    (edges_df['source_node']=='inclusionAI/Ling-mini-2.0') | \n",
    "    (edges_df['dest_node']=='inclusionAI/Ling-mini-2.0')\n",
    ")]"
   ]
  },
  {
   "cell_type": "code",
   "execution_count": 128,
   "id": "fe9e3fc1-6623-45d0-ab4b-9cd24652fec6",
   "metadata": {},
   "outputs": [
    {
     "data": {
      "text/plain": [
       "tensor(1.)"
      ]
     },
     "execution_count": 128,
     "metadata": {},
     "output_type": "execute_result"
    }
   ],
   "source": [
    "graph.degrees()[12]"
   ]
  },
  {
   "cell_type": "markdown",
   "id": "751b977a-eab6-4b3c-8e80-893c1caa2d58",
   "metadata": {},
   "source": [
    "# Double check from original\n",
    "\n",
    "Notice from the original page on huggingface, https://huggingface.co/mlx-community/Ling-mini-2.0, there are total of 16 models, but the scraping script only downloaded one. Observe that from the 16 quantized models, there is only 1 with last modified on `September 11, 2025` from the link.\n",
    "\n",
    "(Checked on 26th Sept)\n"
   ]
  },
  {
   "cell_type": "code",
   "execution_count": null,
   "id": "fb3c9b2d-6eeb-4f98-80db-2332347b93ce",
   "metadata": {},
   "outputs": [],
   "source": [
    "temp = pd.read_json('../HuggingKG_V20250916155543/model_quantized_model.json')"
   ]
  },
  {
   "cell_type": "code",
   "execution_count": 94,
   "id": "6a8130c3-8440-4ebe-9c66-acdacbc8bf6a",
   "metadata": {},
   "outputs": [
    {
     "data": {
      "text/html": [
       "<div>\n",
       "<style scoped>\n",
       "    .dataframe tbody tr th:only-of-type {\n",
       "        vertical-align: middle;\n",
       "    }\n",
       "\n",
       "    .dataframe tbody tr th {\n",
       "        vertical-align: top;\n",
       "    }\n",
       "\n",
       "    .dataframe thead th {\n",
       "        text-align: right;\n",
       "    }\n",
       "</style>\n",
       "<table border=\"1\" class=\"dataframe\">\n",
       "  <thead>\n",
       "    <tr style=\"text-align: right;\">\n",
       "      <th></th>\n",
       "      <th>base_model_id</th>\n",
       "      <th>model_id</th>\n",
       "    </tr>\n",
       "  </thead>\n",
       "  <tbody>\n",
       "    <tr>\n",
       "      <th>752</th>\n",
       "      <td>inclusionAI/Ling-mini-2.0</td>\n",
       "      <td>mlx-community/Ling-mini-2.0-8bit</td>\n",
       "    </tr>\n",
       "  </tbody>\n",
       "</table>\n",
       "</div>"
      ],
      "text/plain": [
       "                 base_model_id                          model_id\n",
       "752  inclusionAI/Ling-mini-2.0  mlx-community/Ling-mini-2.0-8bit"
      ]
     },
     "execution_count": 94,
     "metadata": {},
     "output_type": "execute_result"
    }
   ],
   "source": [
    "temp[temp['base_model_id']=='inclusionAI/Ling-mini-2.0']"
   ]
  },
  {
   "cell_type": "code",
   "execution_count": null,
   "id": "aea5cb10-46bd-4d8b-9551-5208e34dfb90",
   "metadata": {},
   "outputs": [],
   "source": [
    "temp = pd.read_json('../HuggingKG_V20250916155543/models.json')"
   ]
  },
  {
   "cell_type": "code",
   "execution_count": 96,
   "id": "7a192f81-1edc-48b2-8370-2da1c53ce4a8",
   "metadata": {},
   "outputs": [
    {
     "data": {
      "text/html": [
       "<div>\n",
       "<style scoped>\n",
       "    .dataframe tbody tr th:only-of-type {\n",
       "        vertical-align: middle;\n",
       "    }\n",
       "\n",
       "    .dataframe tbody tr th {\n",
       "        vertical-align: top;\n",
       "    }\n",
       "\n",
       "    .dataframe thead th {\n",
       "        text-align: right;\n",
       "    }\n",
       "</style>\n",
       "<table border=\"1\" class=\"dataframe\">\n",
       "  <thead>\n",
       "    <tr style=\"text-align: right;\">\n",
       "      <th></th>\n",
       "      <th>id</th>\n",
       "      <th>name</th>\n",
       "      <th>createdAt</th>\n",
       "      <th>lastModified</th>\n",
       "      <th>downloads</th>\n",
       "      <th>likes</th>\n",
       "      <th>region</th>\n",
       "      <th>other</th>\n",
       "      <th>libraries</th>\n",
       "      <th>license</th>\n",
       "      <th>languages</th>\n",
       "      <th>pipeline_tag</th>\n",
       "      <th>description</th>\n",
       "    </tr>\n",
       "  </thead>\n",
       "  <tbody>\n",
       "    <tr>\n",
       "      <th>13</th>\n",
       "      <td>inclusionAI/Ling-mini-2.0</td>\n",
       "      <td>Ling-mini-2.0</td>\n",
       "      <td>2025-09-08T13:43:44+00:00</td>\n",
       "      <td>2025-09-12T03:10:29+00:00</td>\n",
       "      <td>907</td>\n",
       "      <td>118</td>\n",
       "      <td>🇺🇸 Region: US</td>\n",
       "      <td>[bailing_moe, conversational, custom_code, aut...</td>\n",
       "      <td>[Transformers, Safetensors]</td>\n",
       "      <td>mit</td>\n",
       "      <td>[]</td>\n",
       "      <td>[Text Generation]</td>\n",
       "      <td>---\\nlicense: mit\\nbase_model:\\n- inclusionAI/...</td>\n",
       "    </tr>\n",
       "  </tbody>\n",
       "</table>\n",
       "</div>"
      ],
      "text/plain": [
       "                           id           name                  createdAt  \\\n",
       "13  inclusionAI/Ling-mini-2.0  Ling-mini-2.0  2025-09-08T13:43:44+00:00   \n",
       "\n",
       "                 lastModified  downloads  likes         region  \\\n",
       "13  2025-09-12T03:10:29+00:00        907    118  🇺🇸 Region: US   \n",
       "\n",
       "                                                other  \\\n",
       "13  [bailing_moe, conversational, custom_code, aut...   \n",
       "\n",
       "                      libraries license languages       pipeline_tag  \\\n",
       "13  [Transformers, Safetensors]     mit        []  [Text Generation]   \n",
       "\n",
       "                                          description  \n",
       "13  ---\\nlicense: mit\\nbase_model:\\n- inclusionAI/...  "
      ]
     },
     "execution_count": 96,
     "metadata": {},
     "output_type": "execute_result"
    }
   ],
   "source": [
    "temp[temp['id']=='inclusionAI/Ling-mini-2.0']"
   ]
  },
  {
   "cell_type": "code",
   "execution_count": null,
   "id": "37a122cb-3bd1-4fe1-8747-3bfa7bc0d93f",
   "metadata": {},
   "outputs": [],
   "source": []
  }
 ],
 "metadata": {
  "kernelspec": {
   "display_name": "Python 3 (ipykernel)",
   "language": "python",
   "name": "python3"
  },
  "language_info": {
   "codemirror_mode": {
    "name": "ipython",
    "version": 3
   },
   "file_extension": ".py",
   "mimetype": "text/x-python",
   "name": "python",
   "nbconvert_exporter": "python",
   "pygments_lexer": "ipython3",
   "version": "3.12.11"
  }
 },
 "nbformat": 4,
 "nbformat_minor": 5
}
