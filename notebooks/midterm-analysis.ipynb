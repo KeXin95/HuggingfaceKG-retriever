{
 "cells": [
  {
   "cell_type": "code",
   "execution_count": 2,
   "id": "b69e4576-f217-48b1-8f87-acae3db43610",
   "metadata": {},
   "outputs": [],
   "source": [
    "import torch\n",
    "import pandas as pd\n",
    "import json\n",
    "from torch_geometric.data import Data"
   ]
  },
  {
   "cell_type": "code",
   "execution_count": 6,
   "id": "a05b5154-3bb4-4e77-9e92-da293d256863",
   "metadata": {},
   "outputs": [],
   "source": [
    "import matplotlib.pyplot as plt\n",
    "import seaborn as sns\n",
    "import numpy as np\n",
    "import pandas as pd\n",
    "from collections import Counter\n",
    "import networkx as nx\n",
    "from torch_geometric.utils import to_networkx\n",
    "import json\n",
    "import warnings\n",
    "warnings.filterwarnings('ignore')\n",
    "\n",
    "# Set style\n",
    "plt.style.use('seaborn-v0_8')\n",
    "sns.set_palette(\"husl\")"
   ]
  },
  {
   "cell_type": "markdown",
   "id": "95f5eede-9715-4bd3-b47e-7908c0266725",
   "metadata": {},
   "source": [
    "# utils"
   ]
  },
  {
   "cell_type": "code",
   "execution_count": 219,
   "id": "b2ed95aa-dfc2-486f-a856-1c4f0d9bd4cb",
   "metadata": {},
   "outputs": [],
   "source": [
    "# 1. Label Distribution Analysis\n",
    "def get_lab_dist(data, idx_to_task, show_top=False):\n",
    "    print(\"=\" * 60)\n",
    "    print(\"📊 LABEL DISTRIBUTION ANALYSIS\")\n",
    "    print(\"=\" * 60)\n",
    "    \n",
    "    # Convert labels to numpy for analysis\n",
    "    labels = data.y[data.train_mask|data.test_mask|data.val_mask].cpu().numpy()\n",
    "    train_labels = data.y[data.train_mask].cpu().numpy()\n",
    "    val_labels = data.y[data.val_mask].cpu().numpy()\n",
    "    test_labels = data.y[data.test_mask].cpu().numpy()\n",
    "    \n",
    "    \n",
    "    # Calculate label statistics\n",
    "    total_labels = labels.sum(axis=0)\n",
    "    train_label_counts = train_labels.sum(axis=0)\n",
    "    val_label_counts = val_labels.sum(axis=0)\n",
    "    test_label_counts = test_labels.sum(axis=0)\n",
    "    \n",
    "    # Create label distribution dataframe\n",
    "    label_df = pd.DataFrame({\n",
    "        'Label_Index': range(len(total_labels)),\n",
    "        'Total_Count': total_labels,\n",
    "        'Train_Count': train_label_counts,\n",
    "        'Val_Count': val_label_counts,\n",
    "        'Test_Count': test_label_counts\n",
    "    })\n",
    "    \n",
    "    # Calculate percentages\n",
    "    label_df['Total_Percentage'] = (label_df['Total_Count'] / label_df['Total_Count'].sum()) * 100\n",
    "    label_df['Train_Percentage'] = (label_df['Train_Count'] / label_df['Train_Count'].sum()) * 100\n",
    "    label_df['Val_Percentage'] = (label_df['Val_Count'] / label_df['Val_Count'].sum()) * 100\n",
    "    label_df['Test_Percentage'] = (label_df['Test_Count'] / label_df['Test_Count'].sum()) * 100\n",
    "    \n",
    "    print(f\"Total number of unique labels: {len(total_labels)}\")\n",
    "    print(f\"Total label instances: {total_labels.sum()}\")\n",
    "    print(f\"Average labels per node: {total_labels.sum() / data.num_nodes:.2f}\")\n",
    "    print(f\"Max labels per node: {labels.sum(axis=1).max()}\")\n",
    "    print(f\"Min labels per node: {labels.sum(axis=1).min()}\")\n",
    "\n",
    "    if show_top:\n",
    "        top_labels = label_df.nlargest(10, 'Total_Count')[['Label_Index', 'Total_Count', 'Total_Percentage']].copy()\n",
    "    else:\n",
    "        top_labels = label_df.copy()\n",
    "    top_labels = top_labels.sort_values('Total_Percentage', ascending=False)\n",
    "    \n",
    "    # Add task names if available\n",
    "    if idx_to_task:\n",
    "        top_labels['Task_Name'] = top_labels['Label_Index'].map(idx_to_task)\n",
    "        display_cols = ['Label_Index', 'Task_Name', 'Total_Count', 'Total_Percentage']\n",
    "    else:\n",
    "        display_cols = ['Label_Index', 'Total_Count', 'Total_Percentage']\n",
    "    \n",
    "    print(top_labels[display_cols].to_string(index=False))\n",
    "    return label_df\n"
   ]
  },
  {
   "cell_type": "code",
   "execution_count": 227,
   "id": "4918596c-63af-4e3d-8042-cf26da7b2ee5",
   "metadata": {
    "scrolled": true
   },
   "outputs": [
    {
     "data": {
      "text/html": [
       "<div>\n",
       "<style scoped>\n",
       "    .dataframe tbody tr th:only-of-type {\n",
       "        vertical-align: middle;\n",
       "    }\n",
       "\n",
       "    .dataframe tbody tr th {\n",
       "        vertical-align: top;\n",
       "    }\n",
       "\n",
       "    .dataframe thead th {\n",
       "        text-align: right;\n",
       "    }\n",
       "</style>\n",
       "<table border=\"1\" class=\"dataframe\">\n",
       "  <thead>\n",
       "    <tr style=\"text-align: right;\">\n",
       "      <th></th>\n",
       "      <th>id</th>\n",
       "      <th>description</th>\n",
       "      <th>createdAt</th>\n",
       "      <th>type</th>\n",
       "      <th>y_multi_lab</th>\n",
       "      <th>relationships</th>\n",
       "      <th>y</th>\n",
       "    </tr>\n",
       "  </thead>\n",
       "  <tbody>\n",
       "    <tr>\n",
       "      <th>330526</th>\n",
       "      <td>damlab/HIV_V3_bodysite</td>\n",
       "      <td># Dataset Description \\n\\n\\n## Dataset Summary...</td>\n",
       "      <td>2022-03-02 23:29:22+00:00</td>\n",
       "      <td>dataset</td>\n",
       "      <td>[]</td>\n",
       "      <td>model_trainedOrFineTunedOn_dataset:damlab/HIV_...</td>\n",
       "      <td>[0, 0, 0, 0, 0, 0, 0, 0, 0, 0, 0, 0, 0, 0, 0, ...</td>\n",
       "    </tr>\n",
       "    <tr>\n",
       "      <th>330560</th>\n",
       "      <td>huggingartists/alan-walker</td>\n",
       "      <td>---\\nlanguage:\\n- en\\ntags:\\n- huggingartists\\...</td>\n",
       "      <td>2022-03-02 23:29:22+00:00</td>\n",
       "      <td>dataset</td>\n",
       "      <td>[]</td>\n",
       "      <td>model_trainedOrFineTunedOn_dataset:huggingarti...</td>\n",
       "      <td>[0, 0, 0, 0, 0, 0, 0, 0, 0, 0, 0, 0, 0, 0, 0, ...</td>\n",
       "    </tr>\n",
       "    <tr>\n",
       "      <th>330561</th>\n",
       "      <td>huggingartists/andre-3000</td>\n",
       "      <td>---\\nlanguage:\\n- en\\ntags:\\n- huggingartists\\...</td>\n",
       "      <td>2022-03-02 23:29:22+00:00</td>\n",
       "      <td>dataset</td>\n",
       "      <td>[]</td>\n",
       "      <td>model_trainedOrFineTunedOn_dataset:huggingarti...</td>\n",
       "      <td>[0, 0, 0, 0, 0, 0, 0, 0, 0, 0, 0, 0, 0, 0, 0, ...</td>\n",
       "    </tr>\n",
       "    <tr>\n",
       "      <th>330562</th>\n",
       "      <td>huggingartists/arash</td>\n",
       "      <td>---\\nlanguage:\\n- en\\ntags:\\n- huggingartists\\...</td>\n",
       "      <td>2022-03-02 23:29:22+00:00</td>\n",
       "      <td>dataset</td>\n",
       "      <td>[]</td>\n",
       "      <td>model_trainedOrFineTunedOn_dataset:huggingarti...</td>\n",
       "      <td>[0, 0, 0, 0, 0, 0, 0, 0, 0, 0, 0, 0, 0, 0, 0, ...</td>\n",
       "    </tr>\n",
       "    <tr>\n",
       "      <th>330563</th>\n",
       "      <td>huggingartists/architects</td>\n",
       "      <td>---\\nlanguage:\\n- en\\ntags:\\n- huggingartists\\...</td>\n",
       "      <td>2022-03-02 23:29:22+00:00</td>\n",
       "      <td>dataset</td>\n",
       "      <td>[]</td>\n",
       "      <td>model_trainedOrFineTunedOn_dataset:huggingarti...</td>\n",
       "      <td>[0, 0, 0, 0, 0, 0, 0, 0, 0, 0, 0, 0, 0, 0, 0, ...</td>\n",
       "    </tr>\n",
       "    <tr>\n",
       "      <th>...</th>\n",
       "      <td>...</td>\n",
       "      <td>...</td>\n",
       "      <td>...</td>\n",
       "      <td>...</td>\n",
       "      <td>...</td>\n",
       "      <td>...</td>\n",
       "      <td>...</td>\n",
       "    </tr>\n",
       "    <tr>\n",
       "      <th>383925</th>\n",
       "      <td>YirongSun/LLaSO-Align</td>\n",
       "      <td>---\\nlicense: cc-by-nc-4.0\\ntask_categories:\\n...</td>\n",
       "      <td>2025-08-04 08:41:02+00:00</td>\n",
       "      <td>dataset</td>\n",
       "      <td>[]</td>\n",
       "      <td></td>\n",
       "      <td>[0, 0, 0, 0, 0, 0, 0, 0, 0, 0, 0, 0, 0, 0, 0, ...</td>\n",
       "    </tr>\n",
       "    <tr>\n",
       "      <th>385422</th>\n",
       "      <td>Kwai-Keye/Thyme-RL</td>\n",
       "      <td>---\\nlicense: mit\\ndatasets:\\n- Kwai-Keye/Thym...</td>\n",
       "      <td>2025-08-15 05:12:49+00:00</td>\n",
       "      <td>dataset</td>\n",
       "      <td>[]</td>\n",
       "      <td>model_trainedOrFineTunedOn_dataset:Kwai-Keye/T...</td>\n",
       "      <td>[0, 0, 0, 0, 0, 0, 0, 0, 0, 0, 0, 0, 0, 0, 0, ...</td>\n",
       "    </tr>\n",
       "    <tr>\n",
       "      <th>385752</th>\n",
       "      <td>sonalkum/AudioSkills-Llama3</td>\n",
       "      <td>---\\nlanguage:\\n- en\\nlicense: apache-2.0\\nsiz...</td>\n",
       "      <td>2025-08-18 06:32:05+00:00</td>\n",
       "      <td>dataset</td>\n",
       "      <td>[]</td>\n",
       "      <td></td>\n",
       "      <td>[0, 0, 0, 0, 0, 0, 0, 0, 0, 0, 0, 0, 0, 0, 0, ...</td>\n",
       "    </tr>\n",
       "    <tr>\n",
       "      <th>386870</th>\n",
       "      <td>ethz-vlg/mv3dpt-datasets</td>\n",
       "      <td>---\\nlanguage: en\\ntask_categories:\\n- keypoin...</td>\n",
       "      <td>2025-08-26 13:27:02+00:00</td>\n",
       "      <td>dataset</td>\n",
       "      <td>[]</td>\n",
       "      <td></td>\n",
       "      <td>[0, 0, 0, 0, 0, 0, 0, 0, 0, 0, 0, 0, 0, 0, 0, ...</td>\n",
       "    </tr>\n",
       "    <tr>\n",
       "      <th>388113</th>\n",
       "      <td>industoai/Egg-Detection</td>\n",
       "      <td>---\\r\\nlicense: mit\\r\\n---\\r\\n# Egg detection ...</td>\n",
       "      <td>2025-09-06 12:23:41+00:00</td>\n",
       "      <td>dataset</td>\n",
       "      <td>[]</td>\n",
       "      <td>model_trainedOrFineTunedOn_dataset:industoai/E...</td>\n",
       "      <td>[0, 0, 0, 0, 0, 0, 0, 0, 0, 0, 0, 0, 0, 0, 0, ...</td>\n",
       "    </tr>\n",
       "  </tbody>\n",
       "</table>\n",
       "<p>1216 rows × 7 columns</p>\n",
       "</div>"
      ],
      "text/plain": [
       "                                 id  \\\n",
       "330526       damlab/HIV_V3_bodysite   \n",
       "330560   huggingartists/alan-walker   \n",
       "330561    huggingartists/andre-3000   \n",
       "330562         huggingartists/arash   \n",
       "330563    huggingartists/architects   \n",
       "...                             ...   \n",
       "383925        YirongSun/LLaSO-Align   \n",
       "385422           Kwai-Keye/Thyme-RL   \n",
       "385752  sonalkum/AudioSkills-Llama3   \n",
       "386870     ethz-vlg/mv3dpt-datasets   \n",
       "388113      industoai/Egg-Detection   \n",
       "\n",
       "                                              description  \\\n",
       "330526  # Dataset Description \\n\\n\\n## Dataset Summary...   \n",
       "330560  ---\\nlanguage:\\n- en\\ntags:\\n- huggingartists\\...   \n",
       "330561  ---\\nlanguage:\\n- en\\ntags:\\n- huggingartists\\...   \n",
       "330562  ---\\nlanguage:\\n- en\\ntags:\\n- huggingartists\\...   \n",
       "330563  ---\\nlanguage:\\n- en\\ntags:\\n- huggingartists\\...   \n",
       "...                                                   ...   \n",
       "383925  ---\\nlicense: cc-by-nc-4.0\\ntask_categories:\\n...   \n",
       "385422  ---\\nlicense: mit\\ndatasets:\\n- Kwai-Keye/Thym...   \n",
       "385752  ---\\nlanguage:\\n- en\\nlicense: apache-2.0\\nsiz...   \n",
       "386870  ---\\nlanguage: en\\ntask_categories:\\n- keypoin...   \n",
       "388113  ---\\r\\nlicense: mit\\r\\n---\\r\\n# Egg detection ...   \n",
       "\n",
       "                       createdAt     type y_multi_lab  \\\n",
       "330526 2022-03-02 23:29:22+00:00  dataset          []   \n",
       "330560 2022-03-02 23:29:22+00:00  dataset          []   \n",
       "330561 2022-03-02 23:29:22+00:00  dataset          []   \n",
       "330562 2022-03-02 23:29:22+00:00  dataset          []   \n",
       "330563 2022-03-02 23:29:22+00:00  dataset          []   \n",
       "...                          ...      ...         ...   \n",
       "383925 2025-08-04 08:41:02+00:00  dataset          []   \n",
       "385422 2025-08-15 05:12:49+00:00  dataset          []   \n",
       "385752 2025-08-18 06:32:05+00:00  dataset          []   \n",
       "386870 2025-08-26 13:27:02+00:00  dataset          []   \n",
       "388113 2025-09-06 12:23:41+00:00  dataset          []   \n",
       "\n",
       "                                            relationships  \\\n",
       "330526  model_trainedOrFineTunedOn_dataset:damlab/HIV_...   \n",
       "330560  model_trainedOrFineTunedOn_dataset:huggingarti...   \n",
       "330561  model_trainedOrFineTunedOn_dataset:huggingarti...   \n",
       "330562  model_trainedOrFineTunedOn_dataset:huggingarti...   \n",
       "330563  model_trainedOrFineTunedOn_dataset:huggingarti...   \n",
       "...                                                   ...   \n",
       "383925                                                      \n",
       "385422  model_trainedOrFineTunedOn_dataset:Kwai-Keye/T...   \n",
       "385752                                                      \n",
       "386870                                                      \n",
       "388113  model_trainedOrFineTunedOn_dataset:industoai/E...   \n",
       "\n",
       "                                                        y  \n",
       "330526  [0, 0, 0, 0, 0, 0, 0, 0, 0, 0, 0, 0, 0, 0, 0, ...  \n",
       "330560  [0, 0, 0, 0, 0, 0, 0, 0, 0, 0, 0, 0, 0, 0, 0, ...  \n",
       "330561  [0, 0, 0, 0, 0, 0, 0, 0, 0, 0, 0, 0, 0, 0, 0, ...  \n",
       "330562  [0, 0, 0, 0, 0, 0, 0, 0, 0, 0, 0, 0, 0, 0, 0, ...  \n",
       "330563  [0, 0, 0, 0, 0, 0, 0, 0, 0, 0, 0, 0, 0, 0, 0, ...  \n",
       "...                                                   ...  \n",
       "383925  [0, 0, 0, 0, 0, 0, 0, 0, 0, 0, 0, 0, 0, 0, 0, ...  \n",
       "385422  [0, 0, 0, 0, 0, 0, 0, 0, 0, 0, 0, 0, 0, 0, 0, ...  \n",
       "385752  [0, 0, 0, 0, 0, 0, 0, 0, 0, 0, 0, 0, 0, 0, 0, ...  \n",
       "386870  [0, 0, 0, 0, 0, 0, 0, 0, 0, 0, 0, 0, 0, 0, 0, ...  \n",
       "388113  [0, 0, 0, 0, 0, 0, 0, 0, 0, 0, 0, 0, 0, 0, 0, ...  \n",
       "\n",
       "[1216 rows x 7 columns]"
      ]
     },
     "execution_count": 227,
     "metadata": {},
     "output_type": "execute_result"
    }
   ],
   "source": [
    "nodes_df[nodes_df['y_multi_lab'].apply(len)<1]"
   ]
  },
  {
   "cell_type": "markdown",
   "id": "e50c69fd-2403-4e07-a726-f1ae529f8271",
   "metadata": {},
   "source": [
    "# Our graph"
   ]
  },
  {
   "cell_type": "code",
   "execution_count": 336,
   "id": "96a14588-e0ea-4036-91f7-fe21e83eda2d",
   "metadata": {},
   "outputs": [],
   "source": [
    "run_id = 'run_2025-10-29_10-42-09'\n",
    "# run_id = 'run_2025-10-29_09-05-37'\n",
    "# run_id = 'run_2025-10-11_13-12-14'\n",
    "\n",
    "nodes_df = pd.read_pickle(f'experiment_runs/{run_id}/nodes_df.pkl')\n",
    "edges_df = pd.read_pickle(f'experiment_runs/{run_id}/edges_df.pkl')"
   ]
  },
  {
   "cell_type": "code",
   "execution_count": 337,
   "id": "262d5377-3268-4658-95bb-e58cdb99c0ab",
   "metadata": {},
   "outputs": [],
   "source": [
    "\n",
    "old_to_new_idx = json.load(open(f'experiment_runs/{run_id}/old_to_new_idx.json','r'))\n",
    "new_to_old_idx = dict((v,k) for k,v in old_to_new_idx.items())\n"
   ]
  },
  {
   "cell_type": "code",
   "execution_count": 338,
   "id": "af1a4b43-9788-494e-99f6-6de9d364bf94",
   "metadata": {},
   "outputs": [],
   "source": [
    "\n",
    "dataset_path=f'experiment_runs/{run_id}/final_graph.pt'\n",
    "data_own = torch.load(dataset_path, weights_only=False)\n"
   ]
  },
  {
   "cell_type": "code",
   "execution_count": 339,
   "id": "740da2d2-f49e-457e-96b0-fe33f448a3e4",
   "metadata": {},
   "outputs": [
    {
     "data": {
      "text/plain": [
       "Graph(x=[107679, 822], y=[107679, 54], train_mask=[107679], val_mask=[107679], test_mask=[107679], edge_index=[2, 123723], edge_attr=[123723])"
      ]
     },
     "execution_count": 339,
     "metadata": {},
     "output_type": "execute_result"
    }
   ],
   "source": [
    "data_own"
   ]
  },
  {
   "cell_type": "code",
   "execution_count": 340,
   "id": "879889df-aeaa-48bf-9d04-54b05c2f063c",
   "metadata": {},
   "outputs": [
    {
     "name": "stdout",
     "output_type": "stream",
     "text": [
      "Loading task label mappings...\n",
      "Loaded 54 task labels\n",
      "Sample mappings: {'text-generation': 0, 'question-answering': 1, 'text-to-video': 2, 'image-to-video': 3, 'image-to-3d': 4}\n"
     ]
    }
   ],
   "source": [
    "# Load task to index mapping\n",
    "print(\"Loading task label mappings...\")\n",
    "with open(f'experiment_runs/{run_id}/task_to_idx.json', 'r') as f:\n",
    "    task_to_idx_own = json.load(f)\n",
    "idx_to_task_own = {v: k for k, v in task_to_idx_own.items()}\n",
    "print(f\"Loaded {len(task_to_idx_own)} task labels\")\n",
    "print(f\"Sample mappings: {dict(list(task_to_idx_own.items())[:5])}\")"
   ]
  },
  {
   "cell_type": "code",
   "execution_count": 341,
   "id": "cc6227e0-6966-4e61-b413-3e1861c82bb7",
   "metadata": {},
   "outputs": [
    {
     "name": "stdout",
     "output_type": "stream",
     "text": [
      "Starting EDA Analysis...\n",
      "Graph info: 107,679 nodes, 123,723 edges\n",
      "Feature dimension: 822\n",
      "Number of labels: 54\n"
     ]
    }
   ],
   "source": [
    "\n",
    "print(\"Starting EDA Analysis...\")\n",
    "print(f\"Graph info: {data_own.num_nodes:,} nodes, {data_own.num_edges:,} edges\")\n",
    "print(f\"Feature dimension: {data_own.x.shape[1]}\")\n",
    "print(f\"Number of labels: {data_own.y.shape[1]}\")\n"
   ]
  },
  {
   "cell_type": "code",
   "execution_count": 342,
   "id": "0eb04736-c672-4ccd-91ce-317bb41f9b7a",
   "metadata": {},
   "outputs": [
    {
     "name": "stdout",
     "output_type": "stream",
     "text": [
      "============================================================\n",
      "📊 LABEL DISTRIBUTION ANALYSIS\n",
      "============================================================\n",
      "Total number of unique labels: 54\n",
      "Total label instances: 112137\n",
      "Average labels per node: 1.04\n",
      "Max labels per node: 14\n",
      "Min labels per node: 1\n",
      " Label_Index                      Task_Name  Total_Count  Total_Percentage\n",
      "           0                text-generation        40125         35.782124\n",
      "          19                  text-to-image        17982         16.035742\n",
      "          23            text-classification        15640         13.947225\n",
      "          10   automatic-speech-recognition         7728          6.891570\n",
      "          27           token-classification         5466          4.874395\n",
      "          11           image-classification         5310          4.735279\n",
      "           1             question-answering         3587          3.198766\n",
      "          13                      fill-mask         2538          2.263303\n",
      "           7             feature-extraction         2311          2.060872\n",
      "          24            sentence-similarity         1655          1.475873\n",
      "          17                  image-to-text         1182          1.054068\n",
      "           6                    translation         1040          0.927437\n",
      "          28               object-detection          910          0.811507\n",
      "          29           audio-classification          895          0.798131\n",
      "          20                  text-to-audio          860          0.766919\n",
      "          16                  summarization          736          0.656340\n",
      "          32           video-classification          574          0.511874\n",
      "          22             image-text-to-text          496          0.442316\n",
      "          30             image-segmentation          490          0.436965\n",
      "           9                 text-to-speech          440          0.392377\n",
      "          14                multiple-choice          415          0.370083\n",
      "          15      visual-question-answering          235          0.209565\n",
      "          25       zero-shot-classification          225          0.200647\n",
      "          35                 image-to-image          189          0.168544\n",
      "          12       table-question-answering          124          0.110579\n",
      "          33 zero-shot-image-classification          113          0.100770\n",
      "          18       image-feature-extraction           94          0.083826\n",
      "           2                  text-to-video           88          0.078475\n",
      "          46                   text-ranking           79          0.070450\n",
      "          26                 text-retrieval           71          0.063315\n",
      "          41                 audio-to-audio           62          0.055290\n",
      "          21         reinforcement-learning           53          0.047264\n",
      "           5                       robotics           48          0.042805\n",
      "          36               depth-estimation           42          0.037454\n",
      "           3                 image-to-video           41          0.036562\n",
      "          50                mask-generation           39          0.034779\n",
      "          40             video-text-to-text           35          0.031212\n",
      "          49 unconditional-image-generation           31          0.027645\n",
      "          34                     any-to-any           30          0.026753\n",
      "          37         tabular-classification           20          0.017835\n",
      "          31        time-series-forecasting           19          0.016944\n",
      "          43             audio-text-to-text           15          0.013376\n",
      "          47                       graph-ml           14          0.012485\n",
      "          52     zero-shot-object-detection           13          0.011593\n",
      "          38             tabular-regression           12          0.010701\n",
      "          44    document-question-answering           12          0.010701\n",
      "          45      visual-document-retrieval           11          0.009809\n",
      "          42       voice-activity-detection           10          0.008918\n",
      "           4                    image-to-3d            9          0.008026\n",
      "          39                  table-to-text            7          0.006242\n",
      "          53                 video-to-video            6          0.005351\n",
      "           8                     text-to-3d            5          0.004459\n",
      "          48                tabular-to-text            5          0.004459\n",
      "          51             keypoint-detection            0          0.000000\n"
     ]
    }
   ],
   "source": [
    "df_lab_own = get_lab_dist(data_own, idx_to_task_own, show_top=False)"
   ]
  },
  {
   "cell_type": "code",
   "execution_count": 370,
   "id": "0935258f-09f0-40c0-a028-272cf117c907",
   "metadata": {},
   "outputs": [
    {
     "data": {
      "text/plain": [
       "(tensor(106714), tensor(191), tensor(774))"
      ]
     },
     "execution_count": 370,
     "metadata": {},
     "output_type": "execute_result"
    }
   ],
   "source": [
    "data_own.train_mask.sum(), data_own.val_mask.sum(), data_own.test_mask.sum()"
   ]
  },
  {
   "cell_type": "code",
   "execution_count": 344,
   "id": "f891f886-c190-4ddd-bde8-1b838820adba",
   "metadata": {},
   "outputs": [],
   "source": [
    "nodes_df['createdAt'] = pd.to_datetime(nodes_df['createdAt'])\n",
    "    \n",
    "nodes_df = nodes_df.sort_values('createdAt')\n",
    "\n",
    "# nodes_df['createdAt'].dt.date.value_counts()"
   ]
  },
  {
   "cell_type": "code",
   "execution_count": 345,
   "id": "ee318411-cf82-4d19-8d71-3842802ef7a1",
   "metadata": {},
   "outputs": [],
   "source": [
    "train_idxs = data_own.train_nid\n",
    "train_idxs_old = [int(new_to_old_idx[int(x)]) for x in train_idxs]\n",
    "\n",
    "val_idxs = data_own.val_nid\n",
    "val_idxs_old = [int(new_to_old_idx[int(x)]) for x in val_idxs]\n",
    "\n",
    "test_idxs = data_own.test_nid\n",
    "test_idxs_old = [int(new_to_old_idx[int(x)]) for x in test_idxs]"
   ]
  },
  {
   "cell_type": "code",
   "execution_count": 346,
   "id": "51a9c428-0df1-44a3-a24d-bfc17286d961",
   "metadata": {},
   "outputs": [],
   "source": [
    "nodes_df['train_type'] = ''"
   ]
  },
  {
   "cell_type": "code",
   "execution_count": 347,
   "id": "7d3d42bf-3d4c-4307-ae99-b1cd95ef62df",
   "metadata": {},
   "outputs": [],
   "source": [
    "nodes_df.loc[train_idxs_old, 'train_type'] = 'train'\n",
    "nodes_df.loc[val_idxs_old, 'train_type'] = 'val'\n",
    "nodes_df.loc[test_idxs_old, 'train_type'] = 'test'"
   ]
  },
  {
   "cell_type": "code",
   "execution_count": 348,
   "id": "e343da3e-5408-4853-bd91-ae2a4532c37e",
   "metadata": {},
   "outputs": [
    {
     "data": {
      "text/plain": [
       "train_type\n",
       "         280680\n",
       "train    106714\n",
       "test        774\n",
       "val         191\n",
       "Name: count, dtype: int64"
      ]
     },
     "execution_count": 348,
     "metadata": {},
     "output_type": "execute_result"
    }
   ],
   "source": [
    "nodes_df['train_type'].value_counts()"
   ]
  },
  {
   "cell_type": "code",
   "execution_count": 349,
   "id": "0f4e51ac-2948-45e8-a889-43388e33e32b",
   "metadata": {},
   "outputs": [],
   "source": [
    "# Models nodes"
   ]
  },
  {
   "cell_type": "code",
   "execution_count": 360,
   "id": "62bab2fc-9e3f-4aae-afa8-66e7e7e7f485",
   "metadata": {},
   "outputs": [
    {
     "data": {
      "text/plain": [
       "(Timestamp('2022-03-02 23:29:04+0000', tz='UTC'),\n",
       " Timestamp('2025-06-16 17:23:01+0000', tz='UTC'))"
      ]
     },
     "execution_count": 360,
     "metadata": {},
     "output_type": "execute_result"
    }
   ],
   "source": [
    "train_nodes_df = nodes_df[(\n",
    "    (nodes_df['train_type']=='train') &\n",
    "    (nodes_df['type']=='model')\n",
    ")]\n",
    "\n",
    "train_nodes_df['createdAt'].min(), train_nodes_df['createdAt'].max()"
   ]
  },
  {
   "cell_type": "code",
   "execution_count": 361,
   "id": "34306017-33e1-4be5-afef-451f2f5a5b6b",
   "metadata": {},
   "outputs": [
    {
     "data": {
      "text/plain": [
       "(Timestamp('2025-06-17 01:12:00+0000', tz='UTC'),\n",
       " Timestamp('2025-07-16 14:27:03+0000', tz='UTC'))"
      ]
     },
     "execution_count": 361,
     "metadata": {},
     "output_type": "execute_result"
    }
   ],
   "source": [
    "val_nodes_df = nodes_df[(\n",
    "    (nodes_df['train_type']=='val') &\n",
    "    (nodes_df['type']=='model')\n",
    ")]\n",
    "\n",
    "val_nodes_df['createdAt'].min(), val_nodes_df['createdAt'].max()"
   ]
  },
  {
   "cell_type": "code",
   "execution_count": 362,
   "id": "3e8f20ba-d1ef-4514-b34e-fc576af21622",
   "metadata": {},
   "outputs": [
    {
     "data": {
      "text/plain": [
       "(Timestamp('2025-07-17 00:41:11+0000', tz='UTC'),\n",
       " Timestamp('2025-09-16 14:16:50+0000', tz='UTC'))"
      ]
     },
     "execution_count": 362,
     "metadata": {},
     "output_type": "execute_result"
    }
   ],
   "source": [
    "test_nodes_df = nodes_df[(\n",
    "    (nodes_df['train_type']=='test') &\n",
    "    (nodes_df['type']=='model')\n",
    ")]\n",
    "\n",
    "test_nodes_df['createdAt'].min(), test_nodes_df['createdAt'].max()"
   ]
  },
  {
   "cell_type": "code",
   "execution_count": 353,
   "id": "13bb18bb-c80d-4c95-9e44-a2d43c3004d8",
   "metadata": {},
   "outputs": [],
   "source": [
    "# Dataset nodes"
   ]
  },
  {
   "cell_type": "code",
   "execution_count": 363,
   "id": "5ef1154c-2de5-497f-b20d-2676f2842faf",
   "metadata": {},
   "outputs": [
    {
     "data": {
      "text/plain": [
       "(Timestamp('2022-03-02 23:29:22+0000', tz='UTC'),\n",
       " Timestamp('2025-01-16 10:59:09+0000', tz='UTC'))"
      ]
     },
     "execution_count": 363,
     "metadata": {},
     "output_type": "execute_result"
    }
   ],
   "source": [
    "train_nodes_df = nodes_df[(\n",
    "    (nodes_df['train_type']=='train') &\n",
    "    (nodes_df['type']=='dataset')\n",
    ")]\n",
    "\n",
    "train_nodes_df['createdAt'].min(), train_nodes_df['createdAt'].max()"
   ]
  },
  {
   "cell_type": "code",
   "execution_count": 364,
   "id": "02948710-c4ac-4dcc-97a9-9fabc19cac3f",
   "metadata": {},
   "outputs": [
    {
     "data": {
      "text/plain": [
       "(Timestamp('2025-01-18 00:57:34+0000', tz='UTC'),\n",
       " Timestamp('2025-05-16 23:33:38+0000', tz='UTC'))"
      ]
     },
     "execution_count": 364,
     "metadata": {},
     "output_type": "execute_result"
    }
   ],
   "source": [
    "val_nodes_df = nodes_df[(\n",
    "    (nodes_df['train_type']=='val') &\n",
    "    (nodes_df['type']=='dataset')\n",
    ")]\n",
    "\n",
    "val_nodes_df['createdAt'].min(), val_nodes_df['createdAt'].max()"
   ]
  },
  {
   "cell_type": "code",
   "execution_count": 366,
   "id": "03c5a144-b827-4769-9478-144e53928efc",
   "metadata": {},
   "outputs": [
    {
     "data": {
      "text/plain": [
       "(Timestamp('2025-05-18 15:50:59+0000', tz='UTC'),\n",
       " Timestamp('2025-09-15 02:31:21+0000', tz='UTC'))"
      ]
     },
     "execution_count": 366,
     "metadata": {},
     "output_type": "execute_result"
    }
   ],
   "source": [
    "test_nodes_df = nodes_df[(\n",
    "    (nodes_df['train_type']=='test') &\n",
    "    (nodes_df['type']=='dataset')\n",
    ")]\n",
    "\n",
    "test_nodes_df['createdAt'].min(), test_nodes_df['createdAt'].max()"
   ]
  },
  {
   "cell_type": "code",
   "execution_count": 379,
   "id": "9be784c7-9086-455e-96ed-1611ac55eb76",
   "metadata": {},
   "outputs": [
    {
     "name": "stdout",
     "output_type": "stream",
     "text": [
      "\n",
      "============================================================\n",
      "Top categories with largest distribution differences:\n"
     ]
    },
    {
     "data": {
      "text/html": [
       "<div>\n",
       "<style scoped>\n",
       "    .dataframe tbody tr th:only-of-type {\n",
       "        vertical-align: middle;\n",
       "    }\n",
       "\n",
       "    .dataframe tbody tr th {\n",
       "        vertical-align: top;\n",
       "    }\n",
       "\n",
       "    .dataframe thead th {\n",
       "        text-align: right;\n",
       "    }\n",
       "</style>\n",
       "<table border=\"1\" class=\"dataframe\">\n",
       "  <thead>\n",
       "    <tr style=\"text-align: right;\">\n",
       "      <th></th>\n",
       "      <th>label_idx</th>\n",
       "      <th>label_name</th>\n",
       "      <th>train_pct</th>\n",
       "      <th>val_pct</th>\n",
       "      <th>test_pct</th>\n",
       "      <th>max_pct_diff</th>\n",
       "    </tr>\n",
       "  </thead>\n",
       "  <tbody>\n",
       "    <tr>\n",
       "      <th>0</th>\n",
       "      <td>0</td>\n",
       "      <td>text-generation</td>\n",
       "      <td>0.356936</td>\n",
       "      <td>0.341772</td>\n",
       "      <td>0.472036</td>\n",
       "      <td>0.130264</td>\n",
       "    </tr>\n",
       "    <tr>\n",
       "      <th>23</th>\n",
       "      <td>23</td>\n",
       "      <td>text-classification</td>\n",
       "      <td>0.140578</td>\n",
       "      <td>0.046414</td>\n",
       "      <td>0.026846</td>\n",
       "      <td>0.113732</td>\n",
       "    </tr>\n",
       "    <tr>\n",
       "      <th>19</th>\n",
       "      <td>19</td>\n",
       "      <td>text-to-image</td>\n",
       "      <td>0.161262</td>\n",
       "      <td>0.054852</td>\n",
       "      <td>0.076063</td>\n",
       "      <td>0.106409</td>\n",
       "    </tr>\n",
       "    <tr>\n",
       "      <th>22</th>\n",
       "      <td>22</td>\n",
       "      <td>image-text-to-text</td>\n",
       "      <td>0.003549</td>\n",
       "      <td>0.071730</td>\n",
       "      <td>0.095078</td>\n",
       "      <td>0.091529</td>\n",
       "    </tr>\n",
       "    <tr>\n",
       "      <th>35</th>\n",
       "      <td>35</td>\n",
       "      <td>image-to-image</td>\n",
       "      <td>0.001297</td>\n",
       "      <td>0.084388</td>\n",
       "      <td>0.027964</td>\n",
       "      <td>0.083091</td>\n",
       "    </tr>\n",
       "    <tr>\n",
       "      <th>10</th>\n",
       "      <td>10</td>\n",
       "      <td>automatic-speech-recognition</td>\n",
       "      <td>0.069411</td>\n",
       "      <td>0.050633</td>\n",
       "      <td>0.012304</td>\n",
       "      <td>0.057106</td>\n",
       "    </tr>\n",
       "    <tr>\n",
       "      <th>27</th>\n",
       "      <td>27</td>\n",
       "      <td>token-classification</td>\n",
       "      <td>0.049187</td>\n",
       "      <td>0.012658</td>\n",
       "      <td>0.003356</td>\n",
       "      <td>0.045831</td>\n",
       "    </tr>\n",
       "    <tr>\n",
       "      <th>11</th>\n",
       "      <td>11</td>\n",
       "      <td>image-classification</td>\n",
       "      <td>0.047754</td>\n",
       "      <td>0.008439</td>\n",
       "      <td>0.007830</td>\n",
       "      <td>0.039924</td>\n",
       "    </tr>\n",
       "    <tr>\n",
       "      <th>40</th>\n",
       "      <td>40</td>\n",
       "      <td>video-text-to-text</td>\n",
       "      <td>0.000216</td>\n",
       "      <td>0.033755</td>\n",
       "      <td>0.003356</td>\n",
       "      <td>0.033539</td>\n",
       "    </tr>\n",
       "    <tr>\n",
       "      <th>17</th>\n",
       "      <td>17</td>\n",
       "      <td>image-to-text</td>\n",
       "      <td>0.010225</td>\n",
       "      <td>0.033755</td>\n",
       "      <td>0.043624</td>\n",
       "      <td>0.033399</td>\n",
       "    </tr>\n",
       "    <tr>\n",
       "      <th>7</th>\n",
       "      <td>7</td>\n",
       "      <td>feature-extraction</td>\n",
       "      <td>0.020386</td>\n",
       "      <td>0.021097</td>\n",
       "      <td>0.048098</td>\n",
       "      <td>0.027712</td>\n",
       "    </tr>\n",
       "    <tr>\n",
       "      <th>43</th>\n",
       "      <td>43</td>\n",
       "      <td>audio-text-to-text</td>\n",
       "      <td>0.000063</td>\n",
       "      <td>0.025316</td>\n",
       "      <td>0.002237</td>\n",
       "      <td>0.025253</td>\n",
       "    </tr>\n",
       "    <tr>\n",
       "      <th>24</th>\n",
       "      <td>24</td>\n",
       "      <td>sentence-similarity</td>\n",
       "      <td>0.014693</td>\n",
       "      <td>0.004219</td>\n",
       "      <td>0.025727</td>\n",
       "      <td>0.021508</td>\n",
       "    </tr>\n",
       "    <tr>\n",
       "      <th>13</th>\n",
       "      <td>13</td>\n",
       "      <td>fill-mask</td>\n",
       "      <td>0.022837</td>\n",
       "      <td>0.004219</td>\n",
       "      <td>0.002237</td>\n",
       "      <td>0.020599</td>\n",
       "    </tr>\n",
       "    <tr>\n",
       "      <th>5</th>\n",
       "      <td>5</td>\n",
       "      <td>robotics</td>\n",
       "      <td>0.000261</td>\n",
       "      <td>0.008439</td>\n",
       "      <td>0.019016</td>\n",
       "      <td>0.018754</td>\n",
       "    </tr>\n",
       "    <tr>\n",
       "      <th>3</th>\n",
       "      <td>3</td>\n",
       "      <td>image-to-video</td>\n",
       "      <td>0.000189</td>\n",
       "      <td>0.016878</td>\n",
       "      <td>0.017897</td>\n",
       "      <td>0.017708</td>\n",
       "    </tr>\n",
       "    <tr>\n",
       "      <th>9</th>\n",
       "      <td>9</td>\n",
       "      <td>text-to-speech</td>\n",
       "      <td>0.003820</td>\n",
       "      <td>0.021097</td>\n",
       "      <td>0.012304</td>\n",
       "      <td>0.017277</td>\n",
       "    </tr>\n",
       "    <tr>\n",
       "      <th>2</th>\n",
       "      <td>2</td>\n",
       "      <td>text-to-video</td>\n",
       "      <td>0.000622</td>\n",
       "      <td>0.012658</td>\n",
       "      <td>0.017897</td>\n",
       "      <td>0.017276</td>\n",
       "    </tr>\n",
       "    <tr>\n",
       "      <th>34</th>\n",
       "      <td>34</td>\n",
       "      <td>any-to-any</td>\n",
       "      <td>0.000198</td>\n",
       "      <td>0.016878</td>\n",
       "      <td>0.004474</td>\n",
       "      <td>0.016679</td>\n",
       "    </tr>\n",
       "    <tr>\n",
       "      <th>26</th>\n",
       "      <td>26</td>\n",
       "      <td>text-retrieval</td>\n",
       "      <td>0.000595</td>\n",
       "      <td>0.016878</td>\n",
       "      <td>0.001119</td>\n",
       "      <td>0.016283</td>\n",
       "    </tr>\n",
       "  </tbody>\n",
       "</table>\n",
       "</div>"
      ],
      "text/plain": [
       "    label_idx                    label_name  train_pct   val_pct  test_pct  \\\n",
       "0           0               text-generation   0.356936  0.341772  0.472036   \n",
       "23         23           text-classification   0.140578  0.046414  0.026846   \n",
       "19         19                 text-to-image   0.161262  0.054852  0.076063   \n",
       "22         22            image-text-to-text   0.003549  0.071730  0.095078   \n",
       "35         35                image-to-image   0.001297  0.084388  0.027964   \n",
       "10         10  automatic-speech-recognition   0.069411  0.050633  0.012304   \n",
       "27         27          token-classification   0.049187  0.012658  0.003356   \n",
       "11         11          image-classification   0.047754  0.008439  0.007830   \n",
       "40         40            video-text-to-text   0.000216  0.033755  0.003356   \n",
       "17         17                 image-to-text   0.010225  0.033755  0.043624   \n",
       "7           7            feature-extraction   0.020386  0.021097  0.048098   \n",
       "43         43            audio-text-to-text   0.000063  0.025316  0.002237   \n",
       "24         24           sentence-similarity   0.014693  0.004219  0.025727   \n",
       "13         13                     fill-mask   0.022837  0.004219  0.002237   \n",
       "5           5                      robotics   0.000261  0.008439  0.019016   \n",
       "3           3                image-to-video   0.000189  0.016878  0.017897   \n",
       "9           9                text-to-speech   0.003820  0.021097  0.012304   \n",
       "2           2                 text-to-video   0.000622  0.012658  0.017897   \n",
       "34         34                    any-to-any   0.000198  0.016878  0.004474   \n",
       "26         26                text-retrieval   0.000595  0.016878  0.001119   \n",
       "\n",
       "    max_pct_diff  \n",
       "0       0.130264  \n",
       "23      0.113732  \n",
       "19      0.106409  \n",
       "22      0.091529  \n",
       "35      0.083091  \n",
       "10      0.057106  \n",
       "27      0.045831  \n",
       "11      0.039924  \n",
       "40      0.033539  \n",
       "17      0.033399  \n",
       "7       0.027712  \n",
       "43      0.025253  \n",
       "24      0.021508  \n",
       "13      0.020599  \n",
       "5       0.018754  \n",
       "3       0.017708  \n",
       "9       0.017277  \n",
       "2       0.017276  \n",
       "34      0.016679  \n",
       "26      0.016283  "
      ]
     },
     "metadata": {},
     "output_type": "display_data"
    },
    {
     "data": {
      "image/png": "[encoded data removed]",
      "text/plain": [
       "<Figure size 1600x600 with 1 Axes>"
      ]
     },
     "metadata": {},
     "output_type": "display_data"
    }
   ],
   "source": [
    "# Compare category distribution between train, validation, and test splits\n",
    "import numpy as np\n",
    "import pandas as pd\n",
    "import matplotlib.pyplot as plt\n",
    "import seaborn as sns\n",
    "\n",
    "# Attempt to import scipy for p-value; fallback to chi-square only\n",
    "try:\n",
    "    from scipy.stats import chi2_contingency  # type: ignore\n",
    "    _has_scipy = True\n",
    "except Exception:\n",
    "    _has_scipy = False\n",
    "\n",
    "# Extract split label matrices\n",
    "train_mask = data_own.train_mask\n",
    "val_mask = data_own.val_mask\n",
    "test_mask = data_own.test_mask\n",
    "train_labels = data_own.y[train_mask].cpu().numpy()\n",
    "val_labels = data_own.y[val_mask].cpu().numpy()\n",
    "test_labels = data_own.y[test_mask].cpu().numpy()\n",
    "\n",
    "# Sum counts per category\n",
    "train_counts = train_labels.sum(axis=0)\n",
    "val_counts = val_labels.sum(axis=0)\n",
    "test_counts = test_labels.sum(axis=0)\n",
    "\n",
    "# Build distribution DataFrame\n",
    "dist_df = pd.DataFrame({\n",
    "    'label_idx': np.arange(len(train_counts)),\n",
    "    'label_name': [idx_to_task_own.get(i, str(i)) for i in range(len(train_counts))],\n",
    "    'train_count': train_counts,\n",
    "    'val_count': val_counts,\n",
    "    'test_count': test_counts,\n",
    "})\n",
    "\n",
    "# Compute percentages\n",
    "dist_df['train_pct'] = dist_df['train_count'] / dist_df['train_count'].sum()\n",
    "dist_df['val_pct'] = dist_df['val_count'] / dist_df['val_count'].sum()\n",
    "dist_df['test_pct'] = dist_df['test_count'] / dist_df['test_count'].sum()\n",
    "\n",
    "# Show top categories with largest absolute percentage differences\n",
    "dist_df['max_pct_diff'] = dist_df[['train_pct', 'val_pct', 'test_pct']].max(axis=1) - \\\n",
    "                          dist_df[['train_pct', 'val_pct', 'test_pct']].min(axis=1)\n",
    "dist_df['val_test_diff'] = (dist_df['test_pct'] - dist_df['val_pct']).abs()\n",
    "dist_df['train_val_diff'] = (dist_df['val_pct'] - dist_df['train_pct']).abs()\n",
    "dist_df['train_test_diff'] = (dist_df['test_pct'] - dist_df['train_pct']).abs()\n",
    "\n",
    "print(\"\\n\" + \"=\"*60)\n",
    "print(\"Top categories with largest distribution differences:\")\n",
    "display(dist_df.nlargest(20, 'max_pct_diff')[\n",
    "    ['label_idx','label_name','train_pct','val_pct','test_pct','max_pct_diff']\n",
    "])\n",
    "\n",
    "# Plot side-by-side percentage bars for all three splits\n",
    "plot_df = dist_df.melt(id_vars=['label_idx','label_name'],\n",
    "                       value_vars=['train_pct','val_pct','test_pct'],\n",
    "                       var_name='split', value_name='pct')\n",
    "plt.figure(figsize=(16,6))\n",
    "sns.barplot(data=plot_df.sort_values('label_name'), x='label_name', y='pct', hue='split')\n",
    "plt.xticks(rotation=90)\n",
    "plt.ylabel('Percentage of samples')\n",
    "plt.title('Category distribution: Train vs Validation vs Test')\n",
    "plt.tight_layout()\n",
    "plt.show()\n"
   ]
  },
  {
   "cell_type": "code",
   "execution_count": 376,
   "id": "4d671ca8-9a52-427b-9224-44ee7dabbc39",
   "metadata": {},
   "outputs": [
    {
     "data": {
      "text/plain": [
       "array([[ 81,   5,   3,   4,   1,   2,   5,   5,   0,   5,  12,   2,   1,\n",
       "          1,   0,   4,   0,   8,   1,  13,   0,   0,  17,  11,   1,   1,\n",
       "          4,   3,   1,   0,   1,   0,   0,   3,   4,  20,   0,   0,   0,\n",
       "          0,   8,   0,   1,   6,   0,   0,   1,   0,   0,   0,   0,   0,\n",
       "          2],\n",
       "       [422,  15,  16,  16,   0,  17,   9,  43,   0,  11,  11,   7,   1,\n",
       "          2,   0,   5,   1,  39,  10,  68,   3,   5,  85,  24,  23,   1,\n",
       "          1,   3,   1,   2,   3,   0,   2,   3,   4,  25,   0,   0,   0,\n",
       "          0,   3,   2,   0,   2,   0,   1,   4,   0,   0,   0,   1,   0,\n",
       "          3]])"
      ]
     },
     "execution_count": 376,
     "metadata": {},
     "output_type": "execute_result"
    }
   ],
   "source": [
    "# chi2_contingency(contingency_pair)\n",
    "contingency_pair"
   ]
  },
  {
   "cell_type": "markdown",
   "id": "63b96fbb-c115-45fa-b595-3095860d53da",
   "metadata": {},
   "source": [
    "# Graph from paper"
   ]
  },
  {
   "cell_type": "code",
   "execution_count": 10,
   "id": "8638f8f7-9903-4606-9f26-d8a2c5a9dcd2",
   "metadata": {},
   "outputs": [],
   "source": [
    "dataset_path='huggingface_bge.pt'\n",
    "data = torch.load(dataset_path, weights_only=False)"
   ]
  },
  {
   "cell_type": "code",
   "execution_count": 63,
   "id": "5cb9153d-329f-4afb-9d16-efbfa5971d31",
   "metadata": {},
   "outputs": [
    {
     "name": "stdout",
     "output_type": "stream",
     "text": [
      "Loading task label mappings...\n",
      "Loaded 52 task labels\n",
      "Sample mappings: {'any-to-any': 0, 'audio-classification': 1, 'audio-text-to-text': 2, 'audio-to-audio': 3, 'automatic-speech-recognition': 4}\n"
     ]
    }
   ],
   "source": [
    "# Load task to index mapping\n",
    "print(\"Loading task label mappings...\")\n",
    "\n",
    "with open('task_to_id.txt', 'r') as f:\n",
    "    task_id_list = f.readlines()\n",
    "task_to_idx  = dict([(s.split('\\t')[0].split(':')[-1],\n",
    "                     int(s.split('\\t')[-1].strip())) for s in task_id_list\n",
    "                   ])\n",
    "idx_to_task = {v: k for k, v in idx_to_task.items()}\n",
    "print(f\"Loaded {len(task_to_idx)} task labels\")\n",
    "print(f\"Sample mappings: {dict(list(task_to_idx.items())[:5])}\")"
   ]
  },
  {
   "cell_type": "code",
   "execution_count": 12,
   "id": "55766c84-1dfe-4352-94c0-bbc7c8675ed6",
   "metadata": {},
   "outputs": [
    {
     "name": "stdout",
     "output_type": "stream",
     "text": [
      "Starting EDA Analysis...\n",
      "Graph info: 152,435 nodes, 166,199 edges\n",
      "Feature dimension: 768\n",
      "Number of labels: 52\n"
     ]
    }
   ],
   "source": [
    "\n",
    "print(\"Starting EDA Analysis...\")\n",
    "print(f\"Graph info: {data.num_nodes:,} nodes, {data.num_edges:,} edges\")\n",
    "print(f\"Feature dimension: {data.x.shape[1]}\")\n",
    "print(f\"Number of labels: {data.y.shape[1]}\")\n"
   ]
  },
  {
   "cell_type": "code",
   "execution_count": 76,
   "id": "b10f4d0d-935c-48d9-987c-d51cc027ec90",
   "metadata": {},
   "outputs": [
    {
     "name": "stdout",
     "output_type": "stream",
     "text": [
      "============================================================\n",
      "📊 LABEL DISTRIBUTION ANALYSIS\n",
      "============================================================\n",
      "Total number of unique labels: 52\n",
      "Total label instances: 160550.0\n",
      "Average labels per node: 1.05\n",
      "Max labels per node: 15.0\n",
      "Min labels per node: 1.0\n",
      " Label_Index                      Task_Name  Total_Count  Total_Percentage\n",
      "          33                text-generation      52726.0         32.840858\n",
      "          37                  text-to-image      29649.0         18.467144\n",
      "          32            text-classification      21012.0         13.087511\n",
      "          40           text2text-generation       9988.0          6.221115\n",
      "           4   automatic-speech-recognition       8718.0          5.430084\n",
      "          42           token-classification       6634.0          4.132046\n",
      "          10           image-classification       6086.0          3.790720\n",
      "          22             question-answering       4055.0          2.525693\n",
      "           7             feature-extraction       3931.0          2.448458\n",
      "          25            sentence-similarity       3198.0          1.991903\n",
      "           8                      fill-mask       3064.0          1.908440\n",
      "          13             image-text-to-text       1513.0          0.942386\n",
      "          43                    translation       1364.0          0.849580\n",
      "          36                  text-to-audio       1163.0          0.724385\n",
      "          26                  summarization       1121.0          0.698225\n",
      "          21               object-detection       1038.0          0.646528\n",
      "           1           audio-classification       1012.0          0.630333\n",
      "          45           video-classification        668.0          0.416070\n",
      "          12             image-segmentation        526.0          0.327624\n",
      "          38                 text-to-speech        512.0          0.318904\n",
      "          20                multiple-choice        501.0          0.312052\n",
      "          16                  image-to-text        355.0          0.221115\n",
      "          47      visual-question-answering        268.0          0.166926\n",
      "          49       zero-shot-classification        253.0          0.157583\n",
      "          15                 image-to-image        196.0          0.122080\n",
      "          50 zero-shot-image-classification        137.0          0.085332\n",
      "          27       table-question-answering        132.0          0.082217\n",
      "          11       image-feature-extraction         94.0          0.058549\n",
      "          39                  text-to-video         80.0          0.049829\n",
      "           3                 audio-to-audio         77.0          0.047960\n",
      "          34                 text-retrieval         77.0          0.047960\n",
      "           5               depth-estimation         51.0          0.031766\n",
      "          23         reinforcement-learning         51.0          0.031766\n",
      "          24                       robotics         26.0          0.016194\n",
      "          19                mask-generation         26.0          0.016194\n",
      "          29         tabular-classification         24.0          0.014949\n",
      "          46             video-text-to-text         23.0          0.014326\n",
      "          41        time-series-forecasting         21.0          0.013080\n",
      "          44 unconditional-image-generation         21.0          0.013080\n",
      "          30             tabular-regression         20.0          0.012457\n",
      "           0                     any-to-any         20.0          0.012457\n",
      "           6    document-question-answering         20.0          0.012457\n",
      "          17                 image-to-video         19.0          0.011834\n",
      "           9                       graph-ml         17.0          0.010589\n",
      "          51     zero-shot-object-detection         13.0          0.008097\n",
      "          48       voice-activity-detection         10.0          0.006229\n",
      "           2             audio-text-to-text          8.0          0.004983\n",
      "          14                    image-to-3d          8.0          0.004983\n",
      "          28                  table-to-text          8.0          0.004983\n",
      "          35                     text-to-3d          6.0          0.003737\n",
      "          31                tabular-to-text          6.0          0.003737\n",
      "          18             keypoint-detection          4.0          0.002491\n"
     ]
    }
   ],
   "source": [
    "df_lab = get_lab_dist(data, idx_to_task, show_top=False)"
   ]
  },
  {
   "cell_type": "code",
   "execution_count": 80,
   "id": "9eafab28-0402-4e9a-8ec1-96e84ed9e352",
   "metadata": {},
   "outputs": [
    {
     "data": {
      "text/plain": [
       "(tensor(105782), tensor(19308), tensor(27345))"
      ]
     },
     "execution_count": 80,
     "metadata": {},
     "output_type": "execute_result"
    }
   ],
   "source": [
    "data.train_mask.sum(), data.val_mask.sum(), data.test_mask.sum()"
   ]
  }
 ],
 "metadata": {
  "kernelspec": {
   "display_name": "Python 3 (ipykernel)",
   "language": "python",
   "name": "python3"
  },
  "language_info": {
   "codemirror_mode": {
    "name": "ipython",
    "version": 3
   },
   "file_extension": ".py",
   "mimetype": "text/x-python",
   "name": "python",
   "nbconvert_exporter": "python",
   "pygments_lexer": "ipython3",
   "version": "3.12.11"
  }
 },
 "nbformat": 4,
 "nbformat_minor": 5
}
