{
 "cells": [
  {
   "cell_type": "code",
   "execution_count": 1,
   "id": "5b8d45b1-ada0-466b-9faa-f04dd84c8b47",
   "metadata": {},
   "outputs": [],
   "source": [
    "import torch\n",
    "import torch.nn as nn\n",
    "import torch.optim as optim\n",
    "from sklearn.preprocessing import StandardScaler\n",
    "from sklearn.metrics import f1_score\n",
    "import argparse\n",
    "from torch_geometric.data import Data\n",
    "import joblib\n",
    "\n",
    "# **NEW: Import the GCNConv layer from PyTorch Geometric**\n",
    "from torch_geometric.nn import GCNConv\n",
    "\n",
    "class GCN(nn.Module):\n",
    "    def __init__(self, in_feats, hidden_size, out_feats, dropout=0.5):\n",
    "        super(GCN, self).__init__()\n",
    "        self.conv1 = GCNConv(in_feats, hidden_size)\n",
    "        self.conv2 = GCNConv(hidden_size, out_feats)\n",
    "        self.dropout = nn.Dropout(dropout)\n",
    "        self.relu = nn.ReLU()\n",
    "\n",
    "    def forward(self, x, edge_index):\n",
    "        # The GCNConv layer handles both transformation and aggregation\n",
    "        h = self.conv1(x, edge_index)\n",
    "        h = self.relu(h)\n",
    "        h = self.dropout(h)\n",
    "        h = self.conv2(h, edge_index)\n",
    "        return h\n",
    "\n",
    "def fix_graph_data(graph):\n",
    "    \"\"\"Convert CogDL graph to PyTorch Geometric Data format\"\"\"\n",
    "    \n",
    "    # Extract features and labels\n",
    "    x = graph.x  # Node features\n",
    "    y = graph.y  # Node labels (multi-label)\n",
    "    \n",
    "    # Extract edge information and ensure it's in the correct format\n",
    "    \n",
    "    edge_index = torch.stack(list(graph.edge_index), dim=0)\n",
    "    \n",
    "    # Extract masks\n",
    "    train_mask = graph.train_mask\n",
    "    val_mask = graph.val_mask\n",
    "    test_mask = graph.test_mask\n",
    "    \n",
    "    print(f\"Converted edge_index shape: {edge_index.shape}\")\n",
    "    print(f\"Converted edge_index dtype: {edge_index.dtype}\")\n",
    "    \n",
    "    # Create PyTorch Geometric Data object\n",
    "    data = Data(\n",
    "        x=x,\n",
    "        edge_index=edge_index,\n",
    "        y=y,\n",
    "        train_mask=train_mask,\n",
    "        val_mask=val_mask,\n",
    "        test_mask=test_mask\n",
    "    )\n",
    "    \n",
    "    return data\n",
    "\n",
    "scaler = joblib.load('scaler.gz')"
   ]
  },
  {
   "cell_type": "code",
   "execution_count": 2,
   "id": "03cceb23-675e-47ff-960b-7a53d1060981",
   "metadata": {},
   "outputs": [
    {
     "name": "stdout",
     "output_type": "stream",
     "text": [
      "✅ Using second GPU: cuda:4\n"
     ]
    }
   ],
   "source": [
    "import torch\n",
    "\n",
    "if torch.cuda.is_available() and torch.cuda.device_count() > 1:\n",
    "  device = torch.device('cuda:4')\n",
    "  print(\"✅ Using second GPU: cuda:4\")\n",
    "else:\n",
    "  device = torch.device('cpu')\n",
    "  print(\"⚠️ Second GPU not found, falling back to CPU.\")"
   ]
  },
  {
   "cell_type": "code",
   "execution_count": null,
   "id": "07e58fb8-fba4-41de-a4a6-95ecd81d21b1",
   "metadata": {},
   "outputs": [
    {
     "name": "stdout",
     "output_type": "stream",
     "text": [
      "Converted edge_index shape: torch.Size([2, 124056])\n",
      "Converted edge_index dtype: torch.int64\n"
     ]
    },
    {
     "data": {
      "text/plain": [
       "Data(x=[389066, 768], edge_index=[2, 124056], y=[389066, 54], train_mask=[389066], val_mask=[389066], test_mask=[389066])"
      ]
     },
     "execution_count": 3,
     "metadata": {},
     "output_type": "execute_result"
    }
   ],
   "source": [
    "data = torch.load('./experiment_runs/run_2025-10-02_14-47-01/final_graph.pt')\n",
    "data = fix_graph_data(data)\n",
    "data.to(device)"
   ]
  },
  {
   "cell_type": "code",
   "execution_count": 4,
   "id": "15d2b34e-d3f6-44fb-ac31-e49e7385e4a9",
   "metadata": {},
   "outputs": [
    {
     "name": "stdout",
     "output_type": "stream",
     "text": [
      "\n",
      "Model Architecture (True GCN):\n",
      "GCN(\n",
      "  (conv1): GCNConv(768, 256)\n",
      "  (conv2): GCNConv(256, 54)\n",
      "  (dropout): Dropout(p=0.5, inplace=False)\n",
      "  (relu): ReLU()\n",
      ")\n"
     ]
    },
    {
     "data": {
      "text/plain": [
       "GCN(\n",
       "  (conv1): GCNConv(768, 256)\n",
       "  (conv2): GCNConv(256, 54)\n",
       "  (dropout): Dropout(p=0.5, inplace=False)\n",
       "  (relu): ReLU()\n",
       ")"
      ]
     },
     "execution_count": 4,
     "metadata": {},
     "output_type": "execute_result"
    }
   ],
   "source": [
    "\n",
    "\n",
    "loaded_model = GCN(\n",
    "    in_feats=data.x.size(1),\n",
    "    hidden_size=256,\n",
    "    out_feats=data.y.size(1),\n",
    "    dropout=0.5\n",
    ").to(device)\n",
    "\n",
    "print(\"\\nModel Architecture (True GCN):\")\n",
    "print(loaded_model)\n",
    "\n",
    "\n",
    "# 2. Load the saved state dictionary\n",
    "state_dict = torch.load('trained_gcn.pt')\n",
    "\n",
    "# 3. Apply the weights to the model\n",
    "loaded_model.load_state_dict(state_dict)\n",
    "\n",
    "# 4. Set the model to evaluation mode\n",
    "loaded_model.eval()\n",
    "\n",
    "# Now the model is ready for inference"
   ]
  },
  {
   "cell_type": "code",
   "execution_count": 8,
   "id": "d9625190-4450-4c2a-b5ec-efd896b70115",
   "metadata": {
    "scrolled": true
   },
   "outputs": [],
   "source": [
    "# --- 3. Apply the *Saved* Scaler ---\n",
    "new_features_scaled = scaler.transform(data.x.cpu())\n",
    "new_features_tensor = torch.from_numpy(new_features_scaled).float().to(device)"
   ]
  },
  {
   "cell_type": "code",
   "execution_count": 9,
   "id": "849e4fb6-bf95-4f67-a012-2fb473f71651",
   "metadata": {},
   "outputs": [],
   "source": [
    "logits = loaded_model(new_features_tensor, data.edge_index)"
   ]
  },
  {
   "cell_type": "code",
   "execution_count": 10,
   "id": "1255b82b-e004-431f-bb54-82f66931c987",
   "metadata": {},
   "outputs": [
    {
     "name": "stdout",
     "output_type": "stream",
     "text": [
      "0.48817966903073284\n"
     ]
    }
   ],
   "source": [
    "\n",
    "criterion = nn.BCEWithLogitsLoss(reduction='mean')\n",
    "\n",
    "mask = data.test_mask\n",
    "eval_logits = logits[mask]\n",
    "eval_labels = data.y[mask].float()\n",
    "\n",
    "loss = criterion(eval_logits, eval_labels)\n",
    "\n",
    "probs = torch.sigmoid(eval_logits)\n",
    "preds = (probs > 0.5).int()\n",
    "\n",
    "f1 = f1_score(\n",
    "    eval_labels.cpu().numpy(), \n",
    "    preds.cpu().numpy(), \n",
    "    average=\"micro\", \n",
    "    zero_division=0\n",
    ")\n",
    "print(f1)"
   ]
  },
  {
   "cell_type": "code",
   "execution_count": 11,
   "id": "418e052f-3118-4988-82b3-50a08943dc8e",
   "metadata": {},
   "outputs": [
    {
     "data": {
      "text/plain": [
       "(array([   0,    2,    3, ..., 6073, 6074, 6077]),)"
      ]
     },
     "execution_count": 11,
     "metadata": {},
     "output_type": "execute_result"
    }
   ],
   "source": [
    "import numpy as np\n",
    "\n",
    "np.where(preds.sum(axis=1).cpu()>0)"
   ]
  },
  {
   "cell_type": "code",
   "execution_count": 12,
   "id": "fca46b9f-bbd6-4043-bf81-306381cd37b4",
   "metadata": {},
   "outputs": [
    {
     "data": {
      "text/plain": [
       "tensor([1, 0, 0, 0, 0, 0, 0, 0, 0, 0, 0, 0, 0, 0, 0, 0, 0, 0, 0, 0, 0, 0, 0, 0,\n",
       "        0, 0, 0, 0, 0, 0, 0, 0, 0, 0, 0, 0, 0, 0, 0, 0, 0, 0, 0, 0, 0, 0, 0, 0,\n",
       "        0, 0, 0, 0, 0, 0], device='cuda:4', dtype=torch.int32)"
      ]
     },
     "execution_count": 12,
     "metadata": {},
     "output_type": "execute_result"
    }
   ],
   "source": [
    "preds[3]"
   ]
  },
  {
   "cell_type": "code",
   "execution_count": null,
   "id": "93bec0a9-3b3a-4d92-9a01-93097e72bdc5",
   "metadata": {},
   "outputs": [],
   "source": []
  },
  {
   "cell_type": "code",
   "execution_count": null,
   "id": "e3d04bab-efb1-44d4-969a-be31c1ddf0a5",
   "metadata": {},
   "outputs": [],
   "source": []
  }
 ],
 "metadata": {
  "kernelspec": {
   "display_name": "Python 3 (ipykernel)",
   "language": "python",
   "name": "python3"
  },
  "language_info": {
   "codemirror_mode": {
    "name": "ipython",
    "version": 3
   },
   "file_extension": ".py",
   "mimetype": "text/x-python",
   "name": "python",
   "nbconvert_exporter": "python",
   "pygments_lexer": "ipython3",
   "version": "3.12.11"
  }
 },
 "nbformat": 4,
 "nbformat_minor": 5
}
